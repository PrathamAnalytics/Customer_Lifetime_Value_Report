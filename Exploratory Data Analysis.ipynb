{
 "cells": [
  {
   "cell_type": "markdown",
   "id": "e82d9ab4-bdbc-4550-93ee-13716b658a17",
   "metadata": {},
   "source": [
    "# Import Libraries"
   ]
  },
  {
   "cell_type": "code",
   "execution_count": 1,
   "id": "651bb83e-f41b-4aaf-91bf-4af07eeef256",
   "metadata": {},
   "outputs": [],
   "source": [
    "import pandas as pd\n",
    "import numpy as np\n",
    "import seaborn as sns\n",
    "import matplotlib.pyplot as plt"
   ]
  },
  {
   "cell_type": "markdown",
   "id": "b5199422-9662-41cd-a677-a807cd6ba69d",
   "metadata": {},
   "source": [
    "# Settings"
   ]
  },
  {
   "cell_type": "code",
   "execution_count": 2,
   "id": "8615f81b-7524-4c17-b0fc-eba39d2a5771",
   "metadata": {},
   "outputs": [],
   "source": [
    "pd.set_option('display.max_columns', None)\n",
    "sns.set(style=\"white\")"
   ]
  },
  {
   "cell_type": "markdown",
   "id": "670df661-ea10-4347-bac2-50e7c4072e9a",
   "metadata": {},
   "source": [
    "# Load Dataset"
   ]
  },
  {
   "cell_type": "code",
   "execution_count": 5,
   "id": "af7cb6a8-89a4-4414-85f7-dd6506edd530",
   "metadata": {
    "scrolled": true
   },
   "outputs": [
    {
     "data": {
      "text/html": [
       "<div>\n",
       "<style scoped>\n",
       "    .dataframe tbody tr th:only-of-type {\n",
       "        vertical-align: middle;\n",
       "    }\n",
       "\n",
       "    .dataframe tbody tr th {\n",
       "        vertical-align: top;\n",
       "    }\n",
       "\n",
       "    .dataframe thead th {\n",
       "        text-align: right;\n",
       "    }\n",
       "</style>\n",
       "<table border=\"1\" class=\"dataframe\">\n",
       "  <thead>\n",
       "    <tr style=\"text-align: right;\">\n",
       "      <th></th>\n",
       "      <th>Transaction_ID</th>\n",
       "      <th>Customer_ID</th>\n",
       "      <th>Name</th>\n",
       "      <th>Phone</th>\n",
       "      <th>City</th>\n",
       "      <th>State</th>\n",
       "      <th>Country</th>\n",
       "      <th>Age</th>\n",
       "      <th>Age_Gap</th>\n",
       "      <th>Gender</th>\n",
       "      <th>Income</th>\n",
       "      <th>Customer_Segment</th>\n",
       "      <th>Date</th>\n",
       "      <th>Year</th>\n",
       "      <th>Month</th>\n",
       "      <th>Time</th>\n",
       "      <th>Total_Purchases</th>\n",
       "      <th>Amount</th>\n",
       "      <th>Total_Amount</th>\n",
       "      <th>Product_Category</th>\n",
       "      <th>Product_Brand</th>\n",
       "      <th>Product_Type</th>\n",
       "      <th>Feedback</th>\n",
       "      <th>Shipping_Method</th>\n",
       "      <th>Payment_Method</th>\n",
       "      <th>Order_Status</th>\n",
       "      <th>Ratings</th>\n",
       "      <th>Products</th>\n",
       "    </tr>\n",
       "  </thead>\n",
       "  <tbody>\n",
       "    <tr>\n",
       "      <th>0</th>\n",
       "      <td>8691788.0</td>\n",
       "      <td>37249.0</td>\n",
       "      <td>Michelle Harrington</td>\n",
       "      <td>1.414787e+09</td>\n",
       "      <td>Dortmund</td>\n",
       "      <td>Berlin</td>\n",
       "      <td>Germany</td>\n",
       "      <td>21.0</td>\n",
       "      <td>Young</td>\n",
       "      <td>Male</td>\n",
       "      <td>Low</td>\n",
       "      <td>Regular</td>\n",
       "      <td>18-09-2023</td>\n",
       "      <td>2023.0</td>\n",
       "      <td>September</td>\n",
       "      <td>22:03:55</td>\n",
       "      <td>3.0</td>\n",
       "      <td>108.03</td>\n",
       "      <td>324.09</td>\n",
       "      <td>Clothing</td>\n",
       "      <td>Nike</td>\n",
       "      <td>Shorts</td>\n",
       "      <td>Excellent</td>\n",
       "      <td>Same-Day</td>\n",
       "      <td>Debit Card</td>\n",
       "      <td>Shipped</td>\n",
       "      <td>5.0</td>\n",
       "      <td>Cycling shorts</td>\n",
       "    </tr>\n",
       "    <tr>\n",
       "      <th>1</th>\n",
       "      <td>2174773.0</td>\n",
       "      <td>69749.0</td>\n",
       "      <td>Kelsey Hill</td>\n",
       "      <td>6.852900e+09</td>\n",
       "      <td>Nottingham</td>\n",
       "      <td>England</td>\n",
       "      <td>UK</td>\n",
       "      <td>19.0</td>\n",
       "      <td>Young</td>\n",
       "      <td>Female</td>\n",
       "      <td>Low</td>\n",
       "      <td>Premium</td>\n",
       "      <td>31-12-2023</td>\n",
       "      <td>2023.0</td>\n",
       "      <td>December</td>\n",
       "      <td>8:42:04</td>\n",
       "      <td>2.0</td>\n",
       "      <td>403.35</td>\n",
       "      <td>806.71</td>\n",
       "      <td>Electronics</td>\n",
       "      <td>Samsung</td>\n",
       "      <td>Tablet</td>\n",
       "      <td>Excellent</td>\n",
       "      <td>Standard</td>\n",
       "      <td>Credit Card</td>\n",
       "      <td>Processing</td>\n",
       "      <td>4.0</td>\n",
       "      <td>Lenovo Tab</td>\n",
       "    </tr>\n",
       "    <tr>\n",
       "      <th>2</th>\n",
       "      <td>6679610.0</td>\n",
       "      <td>30192.0</td>\n",
       "      <td>Scott Jensen</td>\n",
       "      <td>8.362160e+09</td>\n",
       "      <td>Geelong</td>\n",
       "      <td>New South Wales</td>\n",
       "      <td>Australia</td>\n",
       "      <td>48.0</td>\n",
       "      <td>Old</td>\n",
       "      <td>Male</td>\n",
       "      <td>Low</td>\n",
       "      <td>Regular</td>\n",
       "      <td>26-04-2023</td>\n",
       "      <td>2023.0</td>\n",
       "      <td>April</td>\n",
       "      <td>4:06:29</td>\n",
       "      <td>3.0</td>\n",
       "      <td>354.48</td>\n",
       "      <td>1063.43</td>\n",
       "      <td>Books</td>\n",
       "      <td>Penguin Books</td>\n",
       "      <td>Children's</td>\n",
       "      <td>Average</td>\n",
       "      <td>Same-Day</td>\n",
       "      <td>Credit Card</td>\n",
       "      <td>Processing</td>\n",
       "      <td>2.0</td>\n",
       "      <td>Sports equipment</td>\n",
       "    </tr>\n",
       "    <tr>\n",
       "      <th>3</th>\n",
       "      <td>7232460.0</td>\n",
       "      <td>62101.0</td>\n",
       "      <td>Joseph Miller</td>\n",
       "      <td>2.776752e+09</td>\n",
       "      <td>Edmonton</td>\n",
       "      <td>Ontario</td>\n",
       "      <td>Canada</td>\n",
       "      <td>56.0</td>\n",
       "      <td>Old</td>\n",
       "      <td>Male</td>\n",
       "      <td>High</td>\n",
       "      <td>Premium</td>\n",
       "      <td>05-08-2023</td>\n",
       "      <td>2023.0</td>\n",
       "      <td>May</td>\n",
       "      <td>14:55:17</td>\n",
       "      <td>7.0</td>\n",
       "      <td>352.41</td>\n",
       "      <td>2466.85</td>\n",
       "      <td>Home Decor</td>\n",
       "      <td>Home Depot</td>\n",
       "      <td>Tools</td>\n",
       "      <td>Excellent</td>\n",
       "      <td>Standard</td>\n",
       "      <td>PayPal</td>\n",
       "      <td>Processing</td>\n",
       "      <td>4.0</td>\n",
       "      <td>Utility knife</td>\n",
       "    </tr>\n",
       "    <tr>\n",
       "      <th>4</th>\n",
       "      <td>4983775.0</td>\n",
       "      <td>27901.0</td>\n",
       "      <td>Debra Coleman</td>\n",
       "      <td>9.098268e+09</td>\n",
       "      <td>Bristol</td>\n",
       "      <td>England</td>\n",
       "      <td>UK</td>\n",
       "      <td>22.0</td>\n",
       "      <td>Young</td>\n",
       "      <td>Male</td>\n",
       "      <td>Low</td>\n",
       "      <td>Premium</td>\n",
       "      <td>01-10-2024</td>\n",
       "      <td>2024.0</td>\n",
       "      <td>January</td>\n",
       "      <td>16:54:07</td>\n",
       "      <td>2.0</td>\n",
       "      <td>124.28</td>\n",
       "      <td>248.55</td>\n",
       "      <td>Grocery</td>\n",
       "      <td>Nestle</td>\n",
       "      <td>Chocolate</td>\n",
       "      <td>Bad</td>\n",
       "      <td>Standard</td>\n",
       "      <td>Cash</td>\n",
       "      <td>Shipped</td>\n",
       "      <td>1.0</td>\n",
       "      <td>Chocolate cookies</td>\n",
       "    </tr>\n",
       "    <tr>\n",
       "      <th>...</th>\n",
       "      <td>...</td>\n",
       "      <td>...</td>\n",
       "      <td>...</td>\n",
       "      <td>...</td>\n",
       "      <td>...</td>\n",
       "      <td>...</td>\n",
       "      <td>...</td>\n",
       "      <td>...</td>\n",
       "      <td>...</td>\n",
       "      <td>...</td>\n",
       "      <td>...</td>\n",
       "      <td>...</td>\n",
       "      <td>...</td>\n",
       "      <td>...</td>\n",
       "      <td>...</td>\n",
       "      <td>...</td>\n",
       "      <td>...</td>\n",
       "      <td>...</td>\n",
       "      <td>...</td>\n",
       "      <td>...</td>\n",
       "      <td>...</td>\n",
       "      <td>...</td>\n",
       "      <td>...</td>\n",
       "      <td>...</td>\n",
       "      <td>...</td>\n",
       "      <td>...</td>\n",
       "      <td>...</td>\n",
       "      <td>...</td>\n",
       "    </tr>\n",
       "    <tr>\n",
       "      <th>302000</th>\n",
       "      <td>4246475.0</td>\n",
       "      <td>12104.0</td>\n",
       "      <td>Meagan Ellis</td>\n",
       "      <td>7.466354e+09</td>\n",
       "      <td>Townsville</td>\n",
       "      <td>New South Wales</td>\n",
       "      <td>Australia</td>\n",
       "      <td>31.0</td>\n",
       "      <td>Adult</td>\n",
       "      <td>Male</td>\n",
       "      <td>Medium</td>\n",
       "      <td>Regular</td>\n",
       "      <td>20-01-2024</td>\n",
       "      <td>2024.0</td>\n",
       "      <td>January</td>\n",
       "      <td>23:40:29</td>\n",
       "      <td>5.0</td>\n",
       "      <td>194.79</td>\n",
       "      <td>973.96</td>\n",
       "      <td>Books</td>\n",
       "      <td>Penguin Books</td>\n",
       "      <td>Fiction</td>\n",
       "      <td>Bad</td>\n",
       "      <td>Same-Day</td>\n",
       "      <td>Cash</td>\n",
       "      <td>Processing</td>\n",
       "      <td>1.0</td>\n",
       "      <td>Historical fiction</td>\n",
       "    </tr>\n",
       "    <tr>\n",
       "      <th>302001</th>\n",
       "      <td>1197603.0</td>\n",
       "      <td>69772.0</td>\n",
       "      <td>Mathew Beck</td>\n",
       "      <td>5.754305e+09</td>\n",
       "      <td>Hanover</td>\n",
       "      <td>Berlin</td>\n",
       "      <td>Germany</td>\n",
       "      <td>35.0</td>\n",
       "      <td>Adult</td>\n",
       "      <td>Female</td>\n",
       "      <td>Low</td>\n",
       "      <td>New</td>\n",
       "      <td>28-12-2023</td>\n",
       "      <td>2023.0</td>\n",
       "      <td>December</td>\n",
       "      <td>2:55:45</td>\n",
       "      <td>1.0</td>\n",
       "      <td>285.14</td>\n",
       "      <td>285.14</td>\n",
       "      <td>Electronics</td>\n",
       "      <td>Apple</td>\n",
       "      <td>Laptop</td>\n",
       "      <td>Excellent</td>\n",
       "      <td>Same-Day</td>\n",
       "      <td>Cash</td>\n",
       "      <td>Processing</td>\n",
       "      <td>5.0</td>\n",
       "      <td>LG Gram</td>\n",
       "    </tr>\n",
       "    <tr>\n",
       "      <th>302002</th>\n",
       "      <td>7743242.0</td>\n",
       "      <td>28449.0</td>\n",
       "      <td>Daniel Lee</td>\n",
       "      <td>9.382530e+09</td>\n",
       "      <td>Brighton</td>\n",
       "      <td>England</td>\n",
       "      <td>UK</td>\n",
       "      <td>41.0</td>\n",
       "      <td>Adult</td>\n",
       "      <td>Male</td>\n",
       "      <td>Low</td>\n",
       "      <td>Premium</td>\n",
       "      <td>27-02-2024</td>\n",
       "      <td>2024.0</td>\n",
       "      <td>February</td>\n",
       "      <td>2:43:49</td>\n",
       "      <td>3.0</td>\n",
       "      <td>60.70</td>\n",
       "      <td>182.11</td>\n",
       "      <td>Clothing</td>\n",
       "      <td>Adidas</td>\n",
       "      <td>Jacket</td>\n",
       "      <td>Average</td>\n",
       "      <td>Express</td>\n",
       "      <td>Cash</td>\n",
       "      <td>Shipped</td>\n",
       "      <td>2.0</td>\n",
       "      <td>Parka</td>\n",
       "    </tr>\n",
       "    <tr>\n",
       "      <th>302003</th>\n",
       "      <td>9301950.0</td>\n",
       "      <td>45477.0</td>\n",
       "      <td>Patrick Wilson</td>\n",
       "      <td>9.373222e+09</td>\n",
       "      <td>Halifax</td>\n",
       "      <td>Ontario</td>\n",
       "      <td>Canada</td>\n",
       "      <td>41.0</td>\n",
       "      <td>Adult</td>\n",
       "      <td>Male</td>\n",
       "      <td>Medium</td>\n",
       "      <td>New</td>\n",
       "      <td>09-03-2023</td>\n",
       "      <td>2023.0</td>\n",
       "      <td>September</td>\n",
       "      <td>11:20:31</td>\n",
       "      <td>1.0</td>\n",
       "      <td>120.83</td>\n",
       "      <td>120.83</td>\n",
       "      <td>Home Decor</td>\n",
       "      <td>IKEA</td>\n",
       "      <td>Furniture</td>\n",
       "      <td>Good</td>\n",
       "      <td>Standard</td>\n",
       "      <td>Cash</td>\n",
       "      <td>Shipped</td>\n",
       "      <td>4.0</td>\n",
       "      <td>TV stand</td>\n",
       "    </tr>\n",
       "    <tr>\n",
       "      <th>302004</th>\n",
       "      <td>2882826.0</td>\n",
       "      <td>53626.0</td>\n",
       "      <td>Dustin Merritt</td>\n",
       "      <td>9.518927e+09</td>\n",
       "      <td>Tucson</td>\n",
       "      <td>West Virginia</td>\n",
       "      <td>USA</td>\n",
       "      <td>28.0</td>\n",
       "      <td>Adult</td>\n",
       "      <td>Female</td>\n",
       "      <td>Low</td>\n",
       "      <td>Premium</td>\n",
       "      <td>01-08-2024</td>\n",
       "      <td>2024.0</td>\n",
       "      <td>January</td>\n",
       "      <td>11:44:36</td>\n",
       "      <td>7.0</td>\n",
       "      <td>340.32</td>\n",
       "      <td>2382.23</td>\n",
       "      <td>Home Decor</td>\n",
       "      <td>Home Depot</td>\n",
       "      <td>Decorations</td>\n",
       "      <td>Average</td>\n",
       "      <td>Same-Day</td>\n",
       "      <td>Cash</td>\n",
       "      <td>Shipped</td>\n",
       "      <td>2.0</td>\n",
       "      <td>Clocks</td>\n",
       "    </tr>\n",
       "  </tbody>\n",
       "</table>\n",
       "<p>302005 rows × 28 columns</p>\n",
       "</div>"
      ],
      "text/plain": [
       "        Transaction_ID  Customer_ID                 Name         Phone  \\\n",
       "0            8691788.0      37249.0  Michelle Harrington  1.414787e+09   \n",
       "1            2174773.0      69749.0          Kelsey Hill  6.852900e+09   \n",
       "2            6679610.0      30192.0         Scott Jensen  8.362160e+09   \n",
       "3            7232460.0      62101.0        Joseph Miller  2.776752e+09   \n",
       "4            4983775.0      27901.0        Debra Coleman  9.098268e+09   \n",
       "...                ...          ...                  ...           ...   \n",
       "302000       4246475.0      12104.0         Meagan Ellis  7.466354e+09   \n",
       "302001       1197603.0      69772.0          Mathew Beck  5.754305e+09   \n",
       "302002       7743242.0      28449.0           Daniel Lee  9.382530e+09   \n",
       "302003       9301950.0      45477.0       Patrick Wilson  9.373222e+09   \n",
       "302004       2882826.0      53626.0       Dustin Merritt  9.518927e+09   \n",
       "\n",
       "              City            State    Country   Age Age_Gap  Gender  Income  \\\n",
       "0         Dortmund           Berlin    Germany  21.0   Young    Male     Low   \n",
       "1       Nottingham          England         UK  19.0   Young  Female     Low   \n",
       "2          Geelong  New South Wales  Australia  48.0     Old    Male     Low   \n",
       "3         Edmonton          Ontario     Canada  56.0     Old    Male    High   \n",
       "4          Bristol          England         UK  22.0   Young    Male     Low   \n",
       "...            ...              ...        ...   ...     ...     ...     ...   \n",
       "302000  Townsville  New South Wales  Australia  31.0   Adult    Male  Medium   \n",
       "302001     Hanover           Berlin    Germany  35.0   Adult  Female     Low   \n",
       "302002    Brighton          England         UK  41.0   Adult    Male     Low   \n",
       "302003     Halifax          Ontario     Canada  41.0   Adult    Male  Medium   \n",
       "302004      Tucson    West Virginia        USA  28.0   Adult  Female     Low   \n",
       "\n",
       "       Customer_Segment        Date    Year      Month      Time  \\\n",
       "0               Regular  18-09-2023  2023.0  September  22:03:55   \n",
       "1               Premium  31-12-2023  2023.0   December   8:42:04   \n",
       "2               Regular  26-04-2023  2023.0      April   4:06:29   \n",
       "3               Premium  05-08-2023  2023.0        May  14:55:17   \n",
       "4               Premium  01-10-2024  2024.0    January  16:54:07   \n",
       "...                 ...         ...     ...        ...       ...   \n",
       "302000          Regular  20-01-2024  2024.0    January  23:40:29   \n",
       "302001              New  28-12-2023  2023.0   December   2:55:45   \n",
       "302002          Premium  27-02-2024  2024.0   February   2:43:49   \n",
       "302003              New  09-03-2023  2023.0  September  11:20:31   \n",
       "302004          Premium  01-08-2024  2024.0    January  11:44:36   \n",
       "\n",
       "        Total_Purchases  Amount  Total_Amount Product_Category  Product_Brand  \\\n",
       "0                   3.0  108.03        324.09         Clothing           Nike   \n",
       "1                   2.0  403.35        806.71      Electronics        Samsung   \n",
       "2                   3.0  354.48       1063.43            Books  Penguin Books   \n",
       "3                   7.0  352.41       2466.85       Home Decor     Home Depot   \n",
       "4                   2.0  124.28        248.55          Grocery         Nestle   \n",
       "...                 ...     ...           ...              ...            ...   \n",
       "302000              5.0  194.79        973.96            Books  Penguin Books   \n",
       "302001              1.0  285.14        285.14      Electronics          Apple   \n",
       "302002              3.0   60.70        182.11         Clothing         Adidas   \n",
       "302003              1.0  120.83        120.83       Home Decor           IKEA   \n",
       "302004              7.0  340.32       2382.23       Home Decor     Home Depot   \n",
       "\n",
       "       Product_Type   Feedback Shipping_Method Payment_Method Order_Status  \\\n",
       "0            Shorts  Excellent        Same-Day     Debit Card      Shipped   \n",
       "1            Tablet  Excellent        Standard    Credit Card   Processing   \n",
       "2        Children's    Average        Same-Day    Credit Card   Processing   \n",
       "3             Tools  Excellent        Standard         PayPal   Processing   \n",
       "4         Chocolate        Bad        Standard           Cash      Shipped   \n",
       "...             ...        ...             ...            ...          ...   \n",
       "302000      Fiction        Bad        Same-Day           Cash   Processing   \n",
       "302001       Laptop  Excellent        Same-Day           Cash   Processing   \n",
       "302002       Jacket    Average         Express           Cash      Shipped   \n",
       "302003    Furniture       Good        Standard           Cash      Shipped   \n",
       "302004  Decorations    Average        Same-Day           Cash      Shipped   \n",
       "\n",
       "        Ratings            Products  \n",
       "0           5.0      Cycling shorts  \n",
       "1           4.0          Lenovo Tab  \n",
       "2           2.0    Sports equipment  \n",
       "3           4.0       Utility knife  \n",
       "4           1.0   Chocolate cookies  \n",
       "...         ...                 ...  \n",
       "302000      1.0  Historical fiction  \n",
       "302001      5.0             LG Gram  \n",
       "302002      2.0               Parka  \n",
       "302003      4.0            TV stand  \n",
       "302004      2.0              Clocks  \n",
       "\n",
       "[302005 rows x 28 columns]"
      ]
     },
     "execution_count": 5,
     "metadata": {},
     "output_type": "execute_result"
    }
   ],
   "source": [
    "df = pd.read_csv(\"D:\\\\Pratham\\\\Projects\\\\CLV.csv\")\n",
    "df"
   ]
  },
  {
   "cell_type": "markdown",
   "id": "d2229bb4-f8e9-4111-9ba5-595b5e531089",
   "metadata": {},
   "source": [
    "# Initial Data Inspection"
   ]
  },
  {
   "cell_type": "code",
   "execution_count": 7,
   "id": "a301070b-b639-418b-abbb-85934858fe79",
   "metadata": {},
   "outputs": [
    {
     "name": "stdout",
     "output_type": "stream",
     "text": [
      "(302005, 28)\n"
     ]
    }
   ],
   "source": [
    "print(df.shape)"
   ]
  },
  {
   "cell_type": "code",
   "execution_count": 9,
   "id": "f3743da0-a614-4a9e-ab27-094a26570f52",
   "metadata": {
    "scrolled": true
   },
   "outputs": [
    {
     "name": "stdout",
     "output_type": "stream",
     "text": [
      "<class 'pandas.core.frame.DataFrame'>\n",
      "RangeIndex: 302005 entries, 0 to 302004\n",
      "Data columns (total 28 columns):\n",
      " #   Column            Non-Null Count   Dtype  \n",
      "---  ------            --------------   -----  \n",
      " 0   Transaction_ID    301672 non-null  float64\n",
      " 1   Customer_ID       301698 non-null  float64\n",
      " 2   Name              301623 non-null  object \n",
      " 3   Phone             301643 non-null  float64\n",
      " 4   City              301757 non-null  object \n",
      " 5   State             301724 non-null  object \n",
      " 6   Country           301734 non-null  object \n",
      " 7   Age               301832 non-null  float64\n",
      " 8   Age_Gap           302005 non-null  object \n",
      " 9   Gender            301688 non-null  object \n",
      " 10  Income            301715 non-null  object \n",
      " 11  Customer_Segment  301790 non-null  object \n",
      " 12  Date              301646 non-null  object \n",
      " 13  Year              301655 non-null  float64\n",
      " 14  Month             301732 non-null  object \n",
      " 15  Time              301655 non-null  object \n",
      " 16  Total_Purchases   301644 non-null  float64\n",
      " 17  Amount            301649 non-null  float64\n",
      " 18  Total_Amount      301655 non-null  float64\n",
      " 19  Product_Category  301722 non-null  object \n",
      " 20  Product_Brand     301724 non-null  object \n",
      " 21  Product_Type      302005 non-null  object \n",
      " 22  Feedback          301821 non-null  object \n",
      " 23  Shipping_Method   301668 non-null  object \n",
      " 24  Payment_Method    301708 non-null  object \n",
      " 25  Order_Status      301770 non-null  object \n",
      " 26  Ratings           301821 non-null  float64\n",
      " 27  Products          302005 non-null  object \n",
      "dtypes: float64(9), object(19)\n",
      "memory usage: 64.5+ MB\n",
      "None\n"
     ]
    }
   ],
   "source": [
    "print(df.info())"
   ]
  },
  {
   "cell_type": "code",
   "execution_count": 11,
   "id": "f86b402e-6a3d-4b89-b669-1a9b26b4ff4d",
   "metadata": {
    "scrolled": true
   },
   "outputs": [
    {
     "name": "stdout",
     "output_type": "stream",
     "text": [
      "       Transaction_ID    Customer_ID         Phone            Age  \\\n",
      "count    3.016720e+05  301698.000000  3.016430e+05  301832.000000   \n",
      "mean     5.495821e+06   55006.868783  5.501475e+09      35.480953   \n",
      "std      2.595569e+06   26005.672186  2.596027e+09      15.021771   \n",
      "min      1.000007e+06   10000.000000  1.000049e+09      18.000000   \n",
      "25%      3.247924e+06   32470.000000  3.255047e+09      22.000000   \n",
      "50%      5.499720e+06   55013.000000  5.505828e+09      32.000000   \n",
      "75%      7.739513e+06   77511.000000  7.749892e+09      46.000000   \n",
      "max      9.999995e+06   99999.000000  9.999996e+09      70.000000   \n",
      "\n",
      "                Year  Total_Purchases         Amount   Total_Amount  \\\n",
      "count  301655.000000    301644.000000  301649.000000  301655.000000   \n",
      "mean     2023.165112         5.359689     255.163686    1367.637862   \n",
      "std         0.371283         2.868577     141.390059    1128.996691   \n",
      "min      2023.000000         1.000000      10.000000      10.000000   \n",
      "25%      2023.000000         3.000000     132.890000     438.720000   \n",
      "50%      2023.000000         5.000000     255.470000    1041.100000   \n",
      "75%      2023.000000         8.000000     377.670000    2029.980000   \n",
      "max      2024.000000        10.000000     500.000000    4999.630000   \n",
      "\n",
      "             Ratings  \n",
      "count  301821.000000  \n",
      "mean        3.162683  \n",
      "std         1.320823  \n",
      "min         1.000000  \n",
      "25%         2.000000  \n",
      "50%         3.000000  \n",
      "75%         4.000000  \n",
      "max         5.000000  \n"
     ]
    }
   ],
   "source": [
    "print(df.describe())"
   ]
  },
  {
   "cell_type": "code",
   "execution_count": 13,
   "id": "f8570060-97d2-4ddb-bda1-2cb9d409f0cc",
   "metadata": {
    "scrolled": true
   },
   "outputs": [
    {
     "name": "stdout",
     "output_type": "stream",
     "text": [
      "   Transaction_ID  Customer_ID                 Name         Phone        City  \\\n",
      "0       8691788.0      37249.0  Michelle Harrington  1.414787e+09    Dortmund   \n",
      "1       2174773.0      69749.0          Kelsey Hill  6.852900e+09  Nottingham   \n",
      "2       6679610.0      30192.0         Scott Jensen  8.362160e+09     Geelong   \n",
      "3       7232460.0      62101.0        Joseph Miller  2.776752e+09    Edmonton   \n",
      "4       4983775.0      27901.0        Debra Coleman  9.098268e+09     Bristol   \n",
      "5       6095326.0      41289.0         Ryan Johnson  3.292677e+09    Brisbane   \n",
      "6       5434096.0      97285.0           Erin Lewis  1.578355e+09   Kitchener   \n",
      "7       2344675.0      26603.0        Angela Fields  3.668096e+09      Munich   \n",
      "8       4155845.0      80175.0          Diane Clark  6.219780e+09  Wollongong   \n",
      "9       4926148.0      31878.0            Lori Bell  6.004895e+09     Cologne   \n",
      "\n",
      "             State    Country   Age Age_Gap  Gender  Income Customer_Segment  \\\n",
      "0           Berlin    Germany  21.0   Young    Male     Low          Regular   \n",
      "1          England         UK  19.0   Young  Female     Low          Premium   \n",
      "2  New South Wales  Australia  48.0     Old    Male     Low          Regular   \n",
      "3          Ontario     Canada  56.0     Old    Male    High          Premium   \n",
      "4          England         UK  22.0   Young    Male     Low          Premium   \n",
      "5  New South Wales  Australia  58.0     Old  Female  Medium          Premium   \n",
      "6          Ontario     Canada  29.0   Adult  Female     Low              New   \n",
      "7           Berlin    Germany  29.0   Adult    Male  Medium          Premium   \n",
      "8  New South Wales  Australia  46.0     Old    Male  Medium              New   \n",
      "9           Berlin    Germany  25.0   Young    Male  Medium              New   \n",
      "\n",
      "         Date    Year      Month      Time  Total_Purchases  Amount  \\\n",
      "0  18-09-2023  2023.0  September  22:03:55              3.0  108.03   \n",
      "1  31-12-2023  2023.0   December   8:42:04              2.0  403.35   \n",
      "2  26-04-2023  2023.0      April   4:06:29              3.0  354.48   \n",
      "3  05-08-2023  2023.0        May  14:55:17              7.0  352.41   \n",
      "4  01-10-2024  2024.0    January  16:54:07              2.0  124.28   \n",
      "5  21-09-2023  2023.0  September  23:24:27              4.0  296.29   \n",
      "6  26-06-2023  2023.0       June  13:35:51              2.0  315.06   \n",
      "7  24-03-2023  2023.0      March  10:12:56              1.0   46.59   \n",
      "8  01-06-2024  2024.0    January  14:38:26              8.0  328.84   \n",
      "9  10-04-2023  2023.0    October  22:27:40             10.0  397.61   \n",
      "\n",
      "   Total_Amount Product_Category  Product_Brand Product_Type   Feedback  \\\n",
      "0        324.09         Clothing           Nike       Shorts  Excellent   \n",
      "1        806.71      Electronics        Samsung       Tablet  Excellent   \n",
      "2       1063.43            Books  Penguin Books   Children's    Average   \n",
      "3       2466.85       Home Decor     Home Depot        Tools  Excellent   \n",
      "4        248.55          Grocery         Nestle    Chocolate        Bad   \n",
      "5       1185.17      Electronics          Apple       Tablet       Good   \n",
      "6        630.12      Electronics        Samsung   Television        Bad   \n",
      "7         46.59         Clothing           Zara        Shirt        Bad   \n",
      "8       2630.71          Grocery         Nestle    Chocolate        Bad   \n",
      "9       3976.11       Home Decor     Home Depot  Decorations  Excellent   \n",
      "\n",
      "  Shipping_Method Payment_Method Order_Status  Ratings           Products  \n",
      "0        Same-Day     Debit Card      Shipped      5.0     Cycling shorts  \n",
      "1        Standard    Credit Card   Processing      4.0         Lenovo Tab  \n",
      "2        Same-Day    Credit Card   Processing      2.0   Sports equipment  \n",
      "3        Standard         PayPal   Processing      4.0      Utility knife  \n",
      "4        Standard           Cash      Shipped      1.0  Chocolate cookies  \n",
      "5         Express         PayPal      Pending      4.0         Lenovo Tab  \n",
      "6        Standard           Cash   Processing      1.0            QLED TV  \n",
      "7        Same-Day           Cash   Processing      1.0        Dress shirt  \n",
      "8        Same-Day           Cash    Delivered      1.0     Dark chocolate  \n",
      "9        Standard           Cash    Delivered      4.0            Candles  \n"
     ]
    }
   ],
   "source": [
    "print(df.head(10))"
   ]
  },
  {
   "cell_type": "code",
   "execution_count": 15,
   "id": "b959f5fb-60b8-401b-87a0-b931fb5de839",
   "metadata": {
    "scrolled": true
   },
   "outputs": [
    {
     "name": "stdout",
     "output_type": "stream",
     "text": [
      "                 Transaction_ID  Customer_ID     Phone       Age      Year  \\\n",
      "Transaction_ID         1.000000     0.004794  0.000518 -0.001632 -0.000054   \n",
      "Customer_ID            0.004794     1.000000 -0.000971 -0.000145  0.000429   \n",
      "Phone                  0.000518    -0.000971  1.000000 -0.003494  0.002558   \n",
      "Age                   -0.001632    -0.000145 -0.003494  1.000000 -0.002393   \n",
      "Year                  -0.000054     0.000429  0.002558 -0.002393  1.000000   \n",
      "Total_Purchases       -0.001720     0.003749 -0.000567  0.033299 -0.002247   \n",
      "Amount                -0.003026     0.000336  0.000164  0.000845  0.001710   \n",
      "Total_Amount          -0.002478     0.002846 -0.000160  0.022518 -0.001818   \n",
      "Ratings               -0.000329     0.001825 -0.000909  0.167019 -0.001273   \n",
      "\n",
      "                 Total_Purchases    Amount  Total_Amount   Ratings  \n",
      "Transaction_ID         -0.001720 -0.003026     -0.002478 -0.000329  \n",
      "Customer_ID             0.003749  0.000336      0.002846  0.001825  \n",
      "Phone                  -0.000567  0.000164     -0.000160 -0.000909  \n",
      "Age                     0.033299  0.000845      0.022518  0.167019  \n",
      "Year                   -0.002247  0.001710     -0.001818 -0.001273  \n",
      "Total_Purchases         1.000000  0.000301      0.649084 -0.004587  \n",
      "Amount                  0.000301  1.000000      0.670775 -0.000671  \n",
      "Total_Amount            0.649084  0.670775      1.000000 -0.003874  \n",
      "Ratings                -0.004587 -0.000671     -0.003874  1.000000  \n"
     ]
    }
   ],
   "source": [
    "print(df.corr(numeric_only=True))"
   ]
  },
  {
   "cell_type": "code",
   "execution_count": 17,
   "id": "1bbfa6f9-6e07-4249-a740-2e58968bfdd8",
   "metadata": {
    "scrolled": true
   },
   "outputs": [
    {
     "name": "stdout",
     "output_type": "stream",
     "text": [
      "                 Transaction_ID   Customer_ID         Phone           Age  \\\n",
      "Transaction_ID     6.736979e+12  3.236377e+08  3.491491e+12 -6.362071e+04   \n",
      "Customer_ID        3.236377e+08  6.762950e+08 -6.554539e+10 -5.665163e+01   \n",
      "Phone              3.491491e+12 -6.554539e+10  6.739358e+18 -1.362748e+08   \n",
      "Age               -6.362071e+04 -5.665163e+01 -1.362748e+08  2.256536e+02   \n",
      "Year              -5.178636e+01  4.138949e+00  2.465871e+06 -1.334925e-02   \n",
      "Total_Purchases   -1.280356e+04  2.796622e+02 -4.225687e+06  1.434931e+00   \n",
      "Amount            -1.110500e+06  1.236580e+03  6.012354e+07  1.795469e+00   \n",
      "Total_Amount      -7.262156e+06  8.355025e+04 -4.694072e+08  3.819265e+02   \n",
      "Ratings           -1.126543e+03  6.270208e+01 -3.116970e+06  3.314104e+00   \n",
      "\n",
      "                         Year  Total_Purchases        Amount  Total_Amount  \\\n",
      "Transaction_ID  -5.178636e+01    -1.280356e+04 -1.110500e+06 -7.262156e+06   \n",
      "Customer_ID      4.138949e+00     2.796622e+02  1.236580e+03  8.355025e+04   \n",
      "Phone            2.465871e+06    -4.225687e+06  6.012354e+07 -4.694072e+08   \n",
      "Age             -1.334925e-02     1.434931e+00  1.795469e+00  3.819265e+02   \n",
      "Year             1.378508e-01    -2.393753e-03  8.976833e-02 -7.622699e-01   \n",
      "Total_Purchases -2.393753e-03     8.228736e+00  1.222133e-01  2.102066e+03   \n",
      "Amount           8.976833e-02     1.222133e-01  1.999115e+04  1.070767e+05   \n",
      "Total_Amount    -7.622699e-01     2.102066e+03  1.070767e+05  1.274634e+06   \n",
      "Ratings         -6.239724e-04    -1.737964e-02 -1.252973e-01 -5.776826e+00   \n",
      "\n",
      "                      Ratings  \n",
      "Transaction_ID  -1.126543e+03  \n",
      "Customer_ID      6.270208e+01  \n",
      "Phone           -3.116970e+06  \n",
      "Age              3.314104e+00  \n",
      "Year            -6.239724e-04  \n",
      "Total_Purchases -1.737964e-02  \n",
      "Amount          -1.252973e-01  \n",
      "Total_Amount    -5.776826e+00  \n",
      "Ratings          1.744573e+00  \n"
     ]
    }
   ],
   "source": [
    "print(df.cov(numeric_only=True))"
   ]
  },
  {
   "cell_type": "code",
   "execution_count": 19,
   "id": "1ddcb7d6-8a4d-4e04-855a-e50d2519cefb",
   "metadata": {},
   "outputs": [
    {
     "name": "stdout",
     "output_type": "stream",
     "text": [
      "The No. of unique cities is: 130\n",
      "The No. of unique countries is: 5\n",
      "The No. of unique product brands is: 18\n",
      "The No. of unique shipping methods is: 3\n",
      "The No. of unique total purchases values is: 10\n",
      "The No. of unique products is: 318\n"
     ]
    }
   ],
   "source": [
    "print(f\"The No. of unique cities is: {df['City'].nunique()}\")\n",
    "print(f\"The No. of unique countries is: {df['Country'].nunique()}\")\n",
    "print(f\"The No. of unique product brands is: {df['Product_Brand'].nunique()}\")\n",
    "print(f\"The No. of unique shipping methods is: {df['Shipping_Method'].nunique()}\")\n",
    "print(f\"The No. of unique total purchases values is: {df['Total_Purchases'].nunique()}\")\n",
    "print(f\"The No. of unique products is: {df['Products'].nunique()}\")"
   ]
  },
  {
   "cell_type": "code",
   "execution_count": 21,
   "id": "6f114915-fbc0-4806-9f5e-6eba95124f49",
   "metadata": {},
   "outputs": [],
   "source": [
    "df.columns = df.columns.str.strip()"
   ]
  },
  {
   "cell_type": "code",
   "execution_count": 23,
   "id": "0f22284c-c804-43e4-8a7f-a018300ec6f6",
   "metadata": {},
   "outputs": [
    {
     "name": "stdout",
     "output_type": "stream",
     "text": [
      "Columns: ['Transaction_ID', 'Customer_ID', 'Name', 'Phone', 'City', 'State', 'Country', 'Age', 'Age_Gap', 'Gender', 'Income', 'Customer_Segment', 'Date', 'Year', 'Month', 'Time', 'Total_Purchases', 'Amount', 'Total_Amount', 'Product_Category', 'Product_Brand', 'Product_Type', 'Feedback', 'Shipping_Method', 'Payment_Method', 'Order_Status', 'Ratings', 'Products']\n"
     ]
    }
   ],
   "source": [
    "print(\"Columns:\", df.columns.tolist())"
   ]
  },
  {
   "cell_type": "markdown",
   "id": "b4cb9c4f-92f6-4ee6-805c-98d879ee06f3",
   "metadata": {},
   "source": [
    "# Exploratory Data Analysis (EDA)"
   ]
  },
  {
   "cell_type": "markdown",
   "id": "beadc4fb-7bb4-4e1b-866e-d22a9e29cb07",
   "metadata": {},
   "source": [
    "### 1. What is the max transaction amount?"
   ]
  },
  {
   "cell_type": "code",
   "execution_count": 25,
   "id": "ef5937d2-f787-4360-a5ae-0a01d3ce7aea",
   "metadata": {},
   "outputs": [
    {
     "data": {
      "text/plain": [
       "4999.63"
      ]
     },
     "execution_count": 25,
     "metadata": {},
     "output_type": "execute_result"
    }
   ],
   "source": [
    "df['Total_Amount'].max()"
   ]
  },
  {
   "cell_type": "markdown",
   "id": "9707a47b-6d11-4128-9f07-0019767d5d28",
   "metadata": {},
   "source": [
    "### 2. What is the total number of unique customers?"
   ]
  },
  {
   "cell_type": "code",
   "execution_count": 27,
   "id": "66bef8a9-681b-4b56-ba94-45bbbec97c3b",
   "metadata": {},
   "outputs": [
    {
     "data": {
      "text/plain": [
       "86766"
      ]
     },
     "execution_count": 27,
     "metadata": {},
     "output_type": "execute_result"
    }
   ],
   "source": [
    "df['Customer_ID'].nunique()"
   ]
  },
  {
   "cell_type": "markdown",
   "id": "5073016b-33d0-46bf-ab37-2930c13f6c77",
   "metadata": {},
   "source": [
    "### 3. What is the total revenue generated in the dataset?"
   ]
  },
  {
   "cell_type": "code",
   "execution_count": 29,
   "id": "d555ae95-b221-415a-ad6e-20eefe2849c6",
   "metadata": {},
   "outputs": [
    {
     "data": {
      "text/plain": [
       "412554799.16"
      ]
     },
     "execution_count": 29,
     "metadata": {},
     "output_type": "execute_result"
    }
   ],
   "source": [
    "df['Total_Amount'].sum()"
   ]
  },
  {
   "cell_type": "markdown",
   "id": "b8539ea4-0ad1-443a-bd05-85bbf056cd59",
   "metadata": {},
   "source": [
    "### 4. What is the average number of purchases per customer?"
   ]
  },
  {
   "cell_type": "code",
   "execution_count": 31,
   "id": "a011ef0d-e655-42e9-bf78-d1440282de24",
   "metadata": {},
   "outputs": [
    {
     "data": {
      "text/plain": [
       "5.36"
      ]
     },
     "execution_count": 31,
     "metadata": {},
     "output_type": "execute_result"
    }
   ],
   "source": [
    "round(df.groupby('Customer_ID')['Total_Purchases'].mean().mean(), 2)"
   ]
  },
  {
   "cell_type": "markdown",
   "id": "6a949d96-5ffe-4011-9fdc-586a1b9dd719",
   "metadata": {},
   "source": [
    "### 5. Which product type has the highest total revenue?"
   ]
  },
  {
   "cell_type": "code",
   "execution_count": 33,
   "id": "0ef36e2c-f7e8-4d68-bdb0-84161cd2b590",
   "metadata": {},
   "outputs": [
    {
     "data": {
      "text/plain": [
       "Product_Type\n",
       "Water    33538493.36\n",
       "Name: Total_Amount, dtype: float64"
      ]
     },
     "execution_count": 33,
     "metadata": {},
     "output_type": "execute_result"
    }
   ],
   "source": [
    "df.groupby('Product_Type')['Total_Amount'].sum().sort_values(ascending=False).head(1)"
   ]
  },
  {
   "cell_type": "markdown",
   "id": "71577ad5-6375-4374-8149-680a7c3b6343",
   "metadata": {},
   "source": [
    "### 6. What is the average customer age?"
   ]
  },
  {
   "cell_type": "code",
   "execution_count": 35,
   "id": "3886a400-37df-44c6-8273-0b6018b243ed",
   "metadata": {},
   "outputs": [
    {
     "data": {
      "text/plain": [
       "35.48"
      ]
     },
     "execution_count": 35,
     "metadata": {},
     "output_type": "execute_result"
    }
   ],
   "source": [
    "round(df['Age'].mean(), 2)"
   ]
  },
  {
   "cell_type": "markdown",
   "id": "0d183566-92c0-4f6a-9561-fecceb570b4a",
   "metadata": {},
   "source": [
    "### 7. What is the average order rating across all products?"
   ]
  },
  {
   "cell_type": "code",
   "execution_count": 37,
   "id": "da57f2b0-f2b8-4496-8fe5-2df421af94e1",
   "metadata": {},
   "outputs": [
    {
     "data": {
      "text/plain": [
       "3.16"
      ]
     },
     "execution_count": 37,
     "metadata": {},
     "output_type": "execute_result"
    }
   ],
   "source": [
    "round(df['Ratings'].mean(), 2)"
   ]
  },
  {
   "cell_type": "markdown",
   "id": "cba4202a-d9c8-46ab-b1e0-66bb3133f993",
   "metadata": {},
   "source": [
    "### 8. How many total transactions are present?"
   ]
  },
  {
   "cell_type": "code",
   "execution_count": 39,
   "id": "16a24718-77c5-43f6-8651-c5dd2bcaec0b",
   "metadata": {},
   "outputs": [
    {
     "data": {
      "text/plain": [
       "294461"
      ]
     },
     "execution_count": 39,
     "metadata": {},
     "output_type": "execute_result"
    }
   ],
   "source": [
    "df['Transaction_ID'].nunique()"
   ]
  },
  {
   "cell_type": "markdown",
   "id": "35dbe843-a0f0-4819-9aa0-31c31f0c3bc7",
   "metadata": {},
   "source": [
    "### 9. What is the distribution of customer age?"
   ]
  },
  {
   "cell_type": "code",
   "execution_count": 41,
   "id": "7e4b23f8-dce9-4b61-8ab4-e505d792209b",
   "metadata": {},
   "outputs": [
    {
     "data": {
      "image/png": "[encoded data removed]",
      "text/plain": [
       "<Figure size 1000x600 with 1 Axes>"
      ]
     },
     "metadata": {},
     "output_type": "display_data"
    }
   ],
   "source": [
    "plt.figure(figsize=(10, 6))\n",
    "sns.histplot(df['Age'].dropna(), bins=20, kde=True, color='skyblue', edgecolor='black')\n",
    "\n",
    "plt.title('Age Distribution of Customers', fontsize=20)\n",
    "plt.xlabel('Age', fontsize=16)\n",
    "plt.ylabel('Frequency', fontsize=16)\n",
    "plt.grid(True, linestyle='--', alpha=0.5)\n",
    "plt.tight_layout()\n",
    "plt.show()"
   ]
  },
  {
   "cell_type": "markdown",
   "id": "35787c0d-180a-42da-af76-79c0f6bd61e3",
   "metadata": {},
   "source": [
    "### 10. Which gender spends more on average per transaction?"
   ]
  },
  {
   "cell_type": "code",
   "execution_count": 43,
   "id": "56b7c843-119f-4a45-ac5d-83c1946f10fa",
   "metadata": {},
   "outputs": [
    {
     "data": {
      "text/plain": [
       "Gender\n",
       "Female    1368.50\n",
       "Male      1367.09\n",
       "Name: Total_Amount, dtype: float64"
      ]
     },
     "execution_count": 43,
     "metadata": {},
     "output_type": "execute_result"
    }
   ],
   "source": [
    "round(df.groupby('Gender')['Total_Amount'].mean(), 2)"
   ]
  },
  {
   "cell_type": "markdown",
   "id": "8d27a461-3438-4ab2-a173-9d1f30a7d4d7",
   "metadata": {},
   "source": [
    "### 11. What are the top 5 most common cities among customers?"
   ]
  },
  {
   "cell_type": "code",
   "execution_count": 45,
   "id": "a4c99d9e-7eba-4b6d-9bf3-ea1a7ba6bb0f",
   "metadata": {},
   "outputs": [
    {
     "data": {
      "text/plain": [
       "City\n",
       "Chicago          21652\n",
       "Portsmouth       20131\n",
       "San Francisco    12188\n",
       "Frankfurt        10182\n",
       "Boston            9416\n",
       "Name: count, dtype: int64"
      ]
     },
     "execution_count": 45,
     "metadata": {},
     "output_type": "execute_result"
    }
   ],
   "source": [
    "df['City'].value_counts().head(5)"
   ]
  },
  {
   "cell_type": "markdown",
   "id": "3bde5fca-1bd2-4903-baab-87e2c00734af",
   "metadata": {},
   "source": [
    "### 12. What is the monthly trend in total sales volume?"
   ]
  },
  {
   "cell_type": "code",
   "execution_count": 47,
   "id": "adb1ce5f-f6be-48ae-b8a2-ed31d886c3a3",
   "metadata": {},
   "outputs": [
    {
     "data": {
      "text/plain": [
       "Month\n",
       "April        56644455.04\n",
       "August       45312308.84\n",
       "December     25955933.01\n",
       "February     24975698.92\n",
       "January      50560024.85\n",
       "July         42270074.73\n",
       "June         25001482.80\n",
       "March        26298782.52\n",
       "May          38645292.68\n",
       "November     24986698.95\n",
       "October      26051857.35\n",
       "September    25454598.33\n",
       "Name: Total_Amount, dtype: float64"
      ]
     },
     "execution_count": 47,
     "metadata": {},
     "output_type": "execute_result"
    }
   ],
   "source": [
    "df.groupby('Month')['Total_Amount'].sum().sort_index()"
   ]
  },
  {
   "cell_type": "markdown",
   "id": "be5198eb-bb1c-4fbc-9c93-13a9f0f7b10b",
   "metadata": {},
   "source": [
    "### 13. How many transactions does each customer make on average?"
   ]
  },
  {
   "cell_type": "code",
   "execution_count": 49,
   "id": "4a14dc9b-bceb-4adf-a738-f812be68e2e1",
   "metadata": {},
   "outputs": [
    {
     "data": {
      "text/plain": [
       "3.48"
      ]
     },
     "execution_count": 49,
     "metadata": {},
     "output_type": "execute_result"
    }
   ],
   "source": [
    "round(df['Customer_ID'].value_counts().mean(), 2)"
   ]
  },
  {
   "cell_type": "markdown",
   "id": "3596eff8-72fa-4b1f-86ec-b5e7305fc653",
   "metadata": {},
   "source": [
    "### 14. Correlation Heatmap."
   ]
  },
  {
   "cell_type": "code",
   "execution_count": 49,
   "id": "b1bd3eb9-8faa-4981-a533-ccd5347a259e",
   "metadata": {},
   "outputs": [
    {
     "data": {
      "image/png": "[encoded data removed]",
      "text/plain": [
       "<Figure size 1200x800 with 2 Axes>"
      ]
     },
     "metadata": {},
     "output_type": "display_data"
    }
   ],
   "source": [
    "plt.figure(figsize=(12, 8))\n",
    "sns.heatmap(df.select_dtypes(include='number').corr(), annot=True, fmt=\".2f\", cmap=\"coolwarm\")\n",
    "plt.title(\"Correlation Heatmap\", fontsize=16, fontweight='bold')\n",
    "plt.xticks(rotation=45)\n",
    "plt.yticks(rotation=0)\n",
    "plt.tight_layout()\n",
    "plt.show()"
   ]
  },
  {
   "cell_type": "markdown",
   "id": "b6e806d7-31d0-4ede-90fa-795c40b6ab42",
   "metadata": {},
   "source": [
    "### 15. How does total spending vary across different age groups (Age_Gap)?"
   ]
  },
  {
   "cell_type": "code",
   "execution_count": 51,
   "id": "9f42dc0f-6d94-4679-abc8-1c541175c389",
   "metadata": {},
   "outputs": [
    {
     "data": {
      "text/plain": [
       "Age_Gap\n",
       "Adult    1.272163e+08\n",
       "Old      1.361850e+08\n",
       "Young    1.491535e+08\n",
       "Name: Total_Amount, dtype: float64"
      ]
     },
     "execution_count": 51,
     "metadata": {},
     "output_type": "execute_result"
    }
   ],
   "source": [
    "def spending_by_age_gap(df):\n",
    "    return df.groupby('Age_Gap')['Total_Amount'].sum()\n",
    "spending_by_age_gap(df)"
   ]
  },
  {
   "cell_type": "markdown",
   "id": "fc3d5a4b-1455-4ac7-869e-86f3f12e397b",
   "metadata": {},
   "source": [
    "### 16. What are the top 5 product categories with the highest revenue?"
   ]
  },
  {
   "cell_type": "code",
   "execution_count": 53,
   "id": "64f774f5-5515-4bf3-b3ac-cbd8fa29fefa",
   "metadata": {},
   "outputs": [
    {
     "data": {
      "text/plain": [
       "Product_Category\n",
       "Electronics    97394598.25\n",
       "Grocery        91072157.06\n",
       "Clothing       74827856.78\n",
       "Books          74588468.77\n",
       "Home Decor     74291147.19\n",
       "Name: Total_Amount, dtype: float64"
      ]
     },
     "execution_count": 53,
     "metadata": {},
     "output_type": "execute_result"
    }
   ],
   "source": [
    "def top_product_categories(df, n=5):\n",
    "    return df.groupby('Product_Category')['Total_Amount'].sum().sort_values(ascending=False).head(n)\n",
    "top_product_categories(df, n=5)"
   ]
  },
  {
   "cell_type": "markdown",
   "id": "6a71cc18-f0ce-4faa-83fb-2a9001d8e807",
   "metadata": {},
   "source": [
    "### 17. What is the average order value per customer?"
   ]
  },
  {
   "cell_type": "code",
   "execution_count": 55,
   "id": "ae1b8951-d3ef-4812-873f-238f07aae689",
   "metadata": {},
   "outputs": [
    {
     "data": {
      "text/plain": [
       "Customer_ID\n",
       "10000.0    1251.89\n",
       "10001.0    1627.29\n",
       "10002.0     820.80\n",
       "10003.0    1170.25\n",
       "10004.0    1178.26\n",
       "            ...   \n",
       "99995.0    1238.71\n",
       "99996.0    1353.61\n",
       "99997.0    1523.18\n",
       "99998.0    1369.97\n",
       "99999.0    2772.34\n",
       "Name: Total_Amount, Length: 86766, dtype: float64"
      ]
     },
     "execution_count": 55,
     "metadata": {},
     "output_type": "execute_result"
    }
   ],
   "source": [
    "def avg_order_value_per_customer(df):\n",
    "    return round(df.groupby('Customer_ID')['Total_Amount'].mean(), 2)\n",
    "avg_order_value_per_customer(df)"
   ]
  },
  {
   "cell_type": "markdown",
   "id": "dc6bd2b0-7238-4e42-bd0c-26114b860782",
   "metadata": {},
   "source": [
    "### 18. How does the number of purchases vary across states?"
   ]
  },
  {
   "cell_type": "code",
   "execution_count": 57,
   "id": "aa5277dd-4e59-4fd1-8f14-2f5c28a4b255",
   "metadata": {
    "scrolled": true
   },
   "outputs": [
    {
     "data": {
      "text/plain": [
       "State\n",
       "England            63058\n",
       "Berlin             52820\n",
       "New South Wales    45316\n",
       "Ontario            45311\n",
       "Connecticut        21658\n",
       "Maine              12193\n",
       "Georgia             9504\n",
       "Kansas              5516\n",
       "New Mexico          5199\n",
       "New York             996\n",
       "Maryland             980\n",
       "Pennsylvania         966\n",
       "Texas                953\n",
       "California           952\n",
       "Nevada               949\n",
       "Minnesota            945\n",
       "South Carolina       945\n",
       "Iowa                 944\n",
       "West Virginia        944\n",
       "Ohio                 941\n",
       "Illinois             941\n",
       "Mississippi          938\n",
       "Hawaii               936\n",
       "Louisiana            928\n",
       "Utah                 924\n",
       "Michigan             923\n",
       "Virginia             918\n",
       "New Jersey           918\n",
       "Alabama              909\n",
       "Oregon               906\n",
       "Montana              906\n",
       "Wyoming              906\n",
       "South Dakota         904\n",
       "Delaware             904\n",
       "Tennessee            903\n",
       "North Carolina       902\n",
       "Missouri             901\n",
       "Florida              901\n",
       "Wisconsin            901\n",
       "Rhode Island         900\n",
       "Nebraska             900\n",
       "Kentucky             899\n",
       "Indiana              897\n",
       "New Hampshire        896\n",
       "Arkansas             896\n",
       "Alaska               887\n",
       "Vermont              886\n",
       "Colorado             883\n",
       "North Dakota         881\n",
       "Washington           879\n",
       "Idaho                877\n",
       "Massachusetts        871\n",
       "Arizona              863\n",
       "Oklahoma             850\n",
       "Name: count, dtype: int64"
      ]
     },
     "execution_count": 57,
     "metadata": {},
     "output_type": "execute_result"
    }
   ],
   "source": [
    "def purchases_by_state(df):\n",
    "    return df['State'].value_counts()\n",
    "purchases_by_state(df)"
   ]
  },
  {
   "cell_type": "markdown",
   "id": "4368575e-ace6-4963-8c1f-a10e7e88d5d3",
   "metadata": {},
   "source": [
    "### 19. How do average ratings differ by product brand?"
   ]
  },
  {
   "cell_type": "code",
   "execution_count": 59,
   "id": "236acd38-9885-4f4c-afa5-dbf90b22300a",
   "metadata": {},
   "outputs": [
    {
     "data": {
      "text/plain": [
       "Product_Brand\n",
       "BlueStar             4.40\n",
       "Mitsubhisi           3.88\n",
       "Whirepool            3.47\n",
       "Pepsi                3.27\n",
       "Samsung              3.13\n",
       "Sony                 3.12\n",
       "IKEA                 3.12\n",
       "HarperCollins        3.11\n",
       "Bed Bath & Beyond    3.11\n",
       "Random House         3.11\n",
       "Nestle               3.11\n",
       "Nike                 3.11\n",
       "Apple                3.11\n",
       "Penguin Books        3.11\n",
       "Coca-Cola            3.10\n",
       "Adidas               3.10\n",
       "Home Depot           3.10\n",
       "Zara                 3.10\n",
       "Name: Ratings, dtype: float64"
      ]
     },
     "execution_count": 59,
     "metadata": {},
     "output_type": "execute_result"
    }
   ],
   "source": [
    "def avg_ratings_by_brand(df):\n",
    "    return round(df.groupby('Product_Brand')['Ratings'].mean().sort_values(ascending=False), 2)\n",
    "avg_ratings_by_brand(df)"
   ]
  },
  {
   "cell_type": "markdown",
   "id": "4fc7b220-393b-4848-a6f4-f08407f49308",
   "metadata": {},
   "source": [
    "### 20. Evaluate Customer Type Based on Age."
   ]
  },
  {
   "cell_type": "code",
   "execution_count": 61,
   "id": "da6ba9b4-223b-4bd2-8824-4cde7e274737",
   "metadata": {},
   "outputs": [
    {
     "data": {
      "text/plain": [
       "37249.0    Millennial\n",
       "30192.0        Boomer\n",
       "27901.0         Gen X\n",
       "41289.0       Unknown\n",
       "74671.0         Gen Z\n",
       "Name: Age_Gap, dtype: object"
      ]
     },
     "execution_count": 61,
     "metadata": {},
     "output_type": "execute_result"
    }
   ],
   "source": [
    "def customer_age_segment(df):\n",
    "    segment_map = {}\n",
    "    for index, row in df.iterrows():\n",
    "        age = row['Age']\n",
    "        if pd.isna(age):\n",
    "            segment = 'Unknown'\n",
    "        elif age < 25:\n",
    "            segment = 'Gen Z'\n",
    "        elif age < 40:\n",
    "            segment = 'Millennial'\n",
    "        elif age < 60:\n",
    "            segment = 'Gen X'\n",
    "        else:\n",
    "            segment = 'Boomer'\n",
    "        segment_map[row['Customer_ID']] = segment\n",
    "    return pd.Series(segment_map, name='Age_Gap').drop_duplicates()\n",
    "customer_age_segment(df)"
   ]
  },
  {
   "cell_type": "markdown",
   "id": "2994abc1-088b-46a8-b4ca-d64a38fcdaa5",
   "metadata": {},
   "source": [
    "### 21. What are the cohort-wise average purchase frequencies?"
   ]
  },
  {
   "cell_type": "code",
   "execution_count": 63,
   "id": "0e20a325-8f9e-4f8e-9b68-e7f393ec23ea",
   "metadata": {},
   "outputs": [
    {
     "data": {
      "text/plain": [
       "Year\n",
       "2023.0    2.96\n",
       "2024.0    1.30\n",
       "Name: Transaction_ID, dtype: float64"
      ]
     },
     "execution_count": 63,
     "metadata": {},
     "output_type": "execute_result"
    }
   ],
   "source": [
    "def cohort_avg_purchase_freq(df):\n",
    "    return round(df.groupby(['Customer_ID', 'Year'])['Transaction_ID'].nunique().groupby('Year').mean(), 2)\n",
    "cohort_avg_purchase_freq(df)"
   ]
  },
  {
   "cell_type": "markdown",
   "id": "d95ad7e8-e85b-4777-82f2-38996e6b4cf6",
   "metadata": {},
   "source": [
    "### 22. Which customer segments have the highest retention (repeat transactions)?"
   ]
  },
  {
   "cell_type": "code",
   "execution_count": 65,
   "id": "f8ace462-745f-443b-bfbc-b646e7b485f7",
   "metadata": {},
   "outputs": [
    {
     "data": {
      "text/plain": [
       "Customer_Segment\n",
       "Regular    94569\n",
       "New        66929\n",
       "Premium    53558\n",
       "Name: count, dtype: int64"
      ]
     },
     "execution_count": 65,
     "metadata": {},
     "output_type": "execute_result"
    }
   ],
   "source": [
    "def repeat_customers_by_segment(df):\n",
    "    repeat_customers = df[df.duplicated('Customer_ID')]\n",
    "    return repeat_customers['Customer_Segment'].value_counts()\n",
    "repeat_customers_by_segment(df)"
   ]
  },
  {
   "cell_type": "markdown",
   "id": "c2e836e0-7202-48f6-87e6-9478c32eb604",
   "metadata": {},
   "source": [
    "### 23. How does total amount vary by payment method and shipping method together?"
   ]
  },
  {
   "cell_type": "code",
   "execution_count": 67,
   "id": "52559c62-6258-4d0f-b082-98fcf16f0f19",
   "metadata": {},
   "outputs": [
    {
     "data": {
      "text/html": [
       "<div>\n",
       "<style scoped>\n",
       "    .dataframe tbody tr th:only-of-type {\n",
       "        vertical-align: middle;\n",
       "    }\n",
       "\n",
       "    .dataframe tbody tr th {\n",
       "        vertical-align: top;\n",
       "    }\n",
       "\n",
       "    .dataframe thead th {\n",
       "        text-align: right;\n",
       "    }\n",
       "</style>\n",
       "<table border=\"1\" class=\"dataframe\">\n",
       "  <thead>\n",
       "    <tr style=\"text-align: right;\">\n",
       "      <th>Shipping_Method</th>\n",
       "      <th>Express</th>\n",
       "      <th>Same-Day</th>\n",
       "      <th>Standard</th>\n",
       "    </tr>\n",
       "    <tr>\n",
       "      <th>Payment_Method</th>\n",
       "      <th></th>\n",
       "      <th></th>\n",
       "      <th></th>\n",
       "    </tr>\n",
       "  </thead>\n",
       "  <tbody>\n",
       "    <tr>\n",
       "      <th>Cash</th>\n",
       "      <td>1369.96</td>\n",
       "      <td>1354.27</td>\n",
       "      <td>1376.03</td>\n",
       "    </tr>\n",
       "    <tr>\n",
       "      <th>Credit Card</th>\n",
       "      <td>1375.29</td>\n",
       "      <td>1367.64</td>\n",
       "      <td>1365.12</td>\n",
       "    </tr>\n",
       "    <tr>\n",
       "      <th>Debit Card</th>\n",
       "      <td>1364.34</td>\n",
       "      <td>1372.51</td>\n",
       "      <td>1365.19</td>\n",
       "    </tr>\n",
       "    <tr>\n",
       "      <th>PayPal</th>\n",
       "      <td>1361.00</td>\n",
       "      <td>1376.65</td>\n",
       "      <td>1360.76</td>\n",
       "    </tr>\n",
       "  </tbody>\n",
       "</table>\n",
       "</div>"
      ],
      "text/plain": [
       "Shipping_Method  Express  Same-Day  Standard\n",
       "Payment_Method                              \n",
       "Cash             1369.96   1354.27   1376.03\n",
       "Credit Card      1375.29   1367.64   1365.12\n",
       "Debit Card       1364.34   1372.51   1365.19\n",
       "PayPal           1361.00   1376.65   1360.76"
      ]
     },
     "execution_count": 67,
     "metadata": {},
     "output_type": "execute_result"
    }
   ],
   "source": [
    "def payment_shipping_pivot(df):\n",
    "    return round(pd.pivot_table(df, values='Total_Amount', index='Payment_Method', columns='Shipping_Method', aggfunc='mean'), 2)\n",
    "payment_shipping_pivot(df)"
   ]
  },
  {
   "cell_type": "markdown",
   "id": "6de91336-8c19-4b7d-bb2d-853388508c72",
   "metadata": {},
   "source": [
    "### 24. Which age groups are associated with high purchase frequency and high order value?"
   ]
  },
  {
   "cell_type": "code",
   "execution_count": 69,
   "id": "ff7de434-76b5-4045-b9f9-3ad401c9a3b0",
   "metadata": {},
   "outputs": [
    {
     "data": {
      "text/html": [
       "<div>\n",
       "<style scoped>\n",
       "    .dataframe tbody tr th:only-of-type {\n",
       "        vertical-align: middle;\n",
       "    }\n",
       "\n",
       "    .dataframe tbody tr th {\n",
       "        vertical-align: top;\n",
       "    }\n",
       "\n",
       "    .dataframe thead th {\n",
       "        text-align: right;\n",
       "    }\n",
       "</style>\n",
       "<table border=\"1\" class=\"dataframe\">\n",
       "  <thead>\n",
       "    <tr style=\"text-align: right;\">\n",
       "      <th></th>\n",
       "      <th>Total_Purchases</th>\n",
       "      <th>Total_Amount</th>\n",
       "    </tr>\n",
       "    <tr>\n",
       "      <th>Age_Gap</th>\n",
       "      <th></th>\n",
       "      <th></th>\n",
       "    </tr>\n",
       "  </thead>\n",
       "  <tbody>\n",
       "    <tr>\n",
       "      <th>Adult</th>\n",
       "      <td>5.43</td>\n",
       "      <td>1384.82</td>\n",
       "    </tr>\n",
       "    <tr>\n",
       "      <th>Old</th>\n",
       "      <td>5.45</td>\n",
       "      <td>1391.82</td>\n",
       "    </tr>\n",
       "    <tr>\n",
       "      <th>Young</th>\n",
       "      <td>5.23</td>\n",
       "      <td>1332.41</td>\n",
       "    </tr>\n",
       "  </tbody>\n",
       "</table>\n",
       "</div>"
      ],
      "text/plain": [
       "         Total_Purchases  Total_Amount\n",
       "Age_Gap                               \n",
       "Adult               5.43       1384.82\n",
       "Old                 5.45       1391.82\n",
       "Young               5.23       1332.41"
      ]
     },
     "execution_count": 69,
     "metadata": {},
     "output_type": "execute_result"
    }
   ],
   "source": [
    "def purchase_behavior_by_age(df):\n",
    "    return round(df.groupby('Age_Gap').agg({'Total_Purchases': 'mean', 'Total_Amount': 'mean'}), 2)\n",
    "purchase_behavior_by_age(df)"
   ]
  },
  {
   "cell_type": "markdown",
   "id": "1c12b738-ea74-4103-9e0c-b63fe9135960",
   "metadata": {},
   "source": [
    "### 25. Customer Loyalty Classification (Based on Purchase Count)."
   ]
  },
  {
   "cell_type": "code",
   "execution_count": 71,
   "id": "bd19f35b-c38d-4624-ab7f-cb1c5f6bdaf5",
   "metadata": {},
   "outputs": [
    {
     "data": {
      "text/plain": [
       "99355.0    High\n",
       "49274.0    High\n",
       "90983.0    High\n",
       "60341.0    High\n",
       "48453.0    High\n",
       "           ... \n",
       "47429.0     Low\n",
       "96439.0     Low\n",
       "16711.0     Low\n",
       "42712.0     Low\n",
       "29845.0     Low\n",
       "Name: Loyalty_Level, Length: 86766, dtype: object"
      ]
     },
     "execution_count": 71,
     "metadata": {},
     "output_type": "execute_result"
    }
   ],
   "source": [
    "def classify_loyalty(df):\n",
    "    loyalty = {}\n",
    "    for cust_id, count in df['Customer_ID'].value_counts().items():\n",
    "        if count > 10:\n",
    "            loyalty[cust_id] = 'High'\n",
    "        elif count > 5:\n",
    "            loyalty[cust_id] = 'Medium'\n",
    "        else:\n",
    "            loyalty[cust_id] = 'Low'\n",
    "    return pd.Series(loyalty, name='Loyalty_Level')\n",
    "classify_loyalty(df)"
   ]
  },
  {
   "cell_type": "markdown",
   "id": "ae86ec7c-0814-4567-81c3-3a70d4fe8b84",
   "metadata": {},
   "source": [
    "### 26. List of Top N Customers by Spend with Labels."
   ]
  },
  {
   "cell_type": "code",
   "execution_count": 73,
   "id": "93753c0d-481a-47f8-8634-96ee13412090",
   "metadata": {},
   "outputs": [
    {
     "data": {
      "text/html": [
       "<div>\n",
       "<style scoped>\n",
       "    .dataframe tbody tr th:only-of-type {\n",
       "        vertical-align: middle;\n",
       "    }\n",
       "\n",
       "    .dataframe tbody tr th {\n",
       "        vertical-align: top;\n",
       "    }\n",
       "\n",
       "    .dataframe thead th {\n",
       "        text-align: right;\n",
       "    }\n",
       "</style>\n",
       "<table border=\"1\" class=\"dataframe\">\n",
       "  <thead>\n",
       "    <tr style=\"text-align: right;\">\n",
       "      <th></th>\n",
       "      <th>Total_Spend</th>\n",
       "      <th>Label</th>\n",
       "    </tr>\n",
       "  </thead>\n",
       "  <tbody>\n",
       "    <tr>\n",
       "      <th>48453.0</th>\n",
       "      <td>29241.77</td>\n",
       "      <td>Top-1</td>\n",
       "    </tr>\n",
       "    <tr>\n",
       "      <th>60092.0</th>\n",
       "      <td>26120.06</td>\n",
       "      <td>Top-2</td>\n",
       "    </tr>\n",
       "    <tr>\n",
       "      <th>42972.0</th>\n",
       "      <td>25654.74</td>\n",
       "      <td>Top-3</td>\n",
       "    </tr>\n",
       "    <tr>\n",
       "      <th>90983.0</th>\n",
       "      <td>25393.24</td>\n",
       "      <td>Top-4</td>\n",
       "    </tr>\n",
       "    <tr>\n",
       "      <th>49847.0</th>\n",
       "      <td>25295.42</td>\n",
       "      <td>Top-5</td>\n",
       "    </tr>\n",
       "    <tr>\n",
       "      <th>12651.0</th>\n",
       "      <td>24757.67</td>\n",
       "      <td>Top-6</td>\n",
       "    </tr>\n",
       "    <tr>\n",
       "      <th>64700.0</th>\n",
       "      <td>23721.55</td>\n",
       "      <td>Top-7</td>\n",
       "    </tr>\n",
       "    <tr>\n",
       "      <th>92491.0</th>\n",
       "      <td>23482.05</td>\n",
       "      <td>Top-8</td>\n",
       "    </tr>\n",
       "    <tr>\n",
       "      <th>90769.0</th>\n",
       "      <td>23446.44</td>\n",
       "      <td>Top-9</td>\n",
       "    </tr>\n",
       "    <tr>\n",
       "      <th>47382.0</th>\n",
       "      <td>23015.43</td>\n",
       "      <td>Top-10</td>\n",
       "    </tr>\n",
       "  </tbody>\n",
       "</table>\n",
       "</div>"
      ],
      "text/plain": [
       "         Total_Spend   Label\n",
       "48453.0     29241.77   Top-1\n",
       "60092.0     26120.06   Top-2\n",
       "42972.0     25654.74   Top-3\n",
       "90983.0     25393.24   Top-4\n",
       "49847.0     25295.42   Top-5\n",
       "12651.0     24757.67   Top-6\n",
       "64700.0     23721.55   Top-7\n",
       "92491.0     23482.05   Top-8\n",
       "90769.0     23446.44   Top-9\n",
       "47382.0     23015.43  Top-10"
      ]
     },
     "execution_count": 73,
     "metadata": {},
     "output_type": "execute_result"
    }
   ],
   "source": [
    "def top_customers_by_spend(df, n=10):\n",
    "    top_customers = df.groupby('Customer_ID')['Total_Amount'].sum().sort_values(ascending=False).head(n)\n",
    "    labeled = {}\n",
    "    for i, (cust, spend) in enumerate(top_customers.items(), 1):\n",
    "        label = f\"Top-{i}\"\n",
    "        labeled[cust] = (spend, label)\n",
    "    return pd.DataFrame.from_dict(labeled, orient='index', columns=['Total_Spend', 'Label'])\n",
    "top_customers_by_spend(df, n=10)"
   ]
  },
  {
   "cell_type": "markdown",
   "id": "05ebce3e-1ac9-4623-8083-9ab6ed9106dd",
   "metadata": {},
   "source": [
    "### 27. Flag Customers Who Have Rated Below 2 More Than Once."
   ]
  },
  {
   "cell_type": "code",
   "execution_count": 75,
   "id": "f2171daf-7143-49cf-b528-edebf3db041e",
   "metadata": {
    "scrolled": true
   },
   "outputs": [
    {
     "data": {
      "text/plain": [
       "[12747.0,\n",
       " 83148.0,\n",
       " 61479.0,\n",
       " 70774.0,\n",
       " 16647.0,\n",
       " 39574.0,\n",
       " 59566.0,\n",
       " 11731.0,\n",
       " 39591.0,\n",
       " 96184.0,\n",
       " 39392.0,\n",
       " 10896.0,\n",
       " 70505.0,\n",
       " 21765.0,\n",
       " 78582.0,\n",
       " 11649.0,\n",
       " 62896.0,\n",
       " 35829.0,\n",
       " 49142.0,\n",
       " 19499.0,\n",
       " 64019.0,\n",
       " 53660.0,\n",
       " 31327.0,\n",
       " 39536.0,\n",
       " 53349.0,\n",
       " 86301.0,\n",
       " 15641.0,\n",
       " 48140.0,\n",
       " 32009.0,\n",
       " 90536.0,\n",
       " 51058.0,\n",
       " 90769.0,\n",
       " 26170.0,\n",
       " 45673.0,\n",
       " 96447.0,\n",
       " 27136.0,\n",
       " 99745.0,\n",
       " 75682.0,\n",
       " 17845.0,\n",
       " 25574.0,\n",
       " 30363.0,\n",
       " 43249.0,\n",
       " 98864.0,\n",
       " 77711.0,\n",
       " 33173.0,\n",
       " 72530.0,\n",
       " 51900.0,\n",
       " 75908.0,\n",
       " 83656.0,\n",
       " 40681.0,\n",
       " 13886.0,\n",
       " 72026.0,\n",
       " 80167.0,\n",
       " 34350.0,\n",
       " 72244.0,\n",
       " 44335.0,\n",
       " 57817.0,\n",
       " 58695.0,\n",
       " 41626.0,\n",
       " 27655.0,\n",
       " 43157.0,\n",
       " 88418.0,\n",
       " 28010.0,\n",
       " 62755.0,\n",
       " 20476.0,\n",
       " 86355.0,\n",
       " 95847.0,\n",
       " 52520.0,\n",
       " 25540.0,\n",
       " 80827.0,\n",
       " 40785.0,\n",
       " 64321.0,\n",
       " 76905.0,\n",
       " 20654.0,\n",
       " 15477.0,\n",
       " 68747.0,\n",
       " 42418.0,\n",
       " 28343.0,\n",
       " 48531.0,\n",
       " 34481.0,\n",
       " 71245.0,\n",
       " 82965.0,\n",
       " 67513.0,\n",
       " 68516.0,\n",
       " 68454.0,\n",
       " 86981.0,\n",
       " 97338.0,\n",
       " 56105.0,\n",
       " 52953.0,\n",
       " 80645.0,\n",
       " 31185.0,\n",
       " 10627.0,\n",
       " 60941.0,\n",
       " 57113.0,\n",
       " 95866.0,\n",
       " 55935.0,\n",
       " 19779.0,\n",
       " 25806.0,\n",
       " 94085.0,\n",
       " 76370.0,\n",
       " 91643.0,\n",
       " 14728.0,\n",
       " 43643.0,\n",
       " 12836.0,\n",
       " 53514.0,\n",
       " 39200.0,\n",
       " 54469.0,\n",
       " 22381.0,\n",
       " 19592.0,\n",
       " 74721.0,\n",
       " 41496.0,\n",
       " 25238.0,\n",
       " 72307.0,\n",
       " 42474.0,\n",
       " 98724.0,\n",
       " 11401.0,\n",
       " 52620.0,\n",
       " 12232.0,\n",
       " 80235.0,\n",
       " 11519.0,\n",
       " 19456.0,\n",
       " 12034.0,\n",
       " 21680.0,\n",
       " 56355.0,\n",
       " 20228.0,\n",
       " 65931.0,\n",
       " 19113.0,\n",
       " 21080.0,\n",
       " 42147.0,\n",
       " 39171.0,\n",
       " 18045.0,\n",
       " 88749.0,\n",
       " 90846.0,\n",
       " 73981.0,\n",
       " 32387.0,\n",
       " 41147.0,\n",
       " 53014.0,\n",
       " 72257.0,\n",
       " 64371.0,\n",
       " 33661.0,\n",
       " 85391.0,\n",
       " 39095.0,\n",
       " 50327.0,\n",
       " 71936.0,\n",
       " 41592.0,\n",
       " 59903.0,\n",
       " 96996.0,\n",
       " 78716.0,\n",
       " 67773.0,\n",
       " 24111.0,\n",
       " 72561.0,\n",
       " 57851.0,\n",
       " 52755.0,\n",
       " 21277.0,\n",
       " 70991.0,\n",
       " 76920.0,\n",
       " 29301.0,\n",
       " 97595.0,\n",
       " 93420.0,\n",
       " 63956.0,\n",
       " 77460.0,\n",
       " 35974.0,\n",
       " 51829.0,\n",
       " 86483.0,\n",
       " 64156.0,\n",
       " 30839.0,\n",
       " 34497.0,\n",
       " 29998.0,\n",
       " 21494.0,\n",
       " 12897.0,\n",
       " 49508.0,\n",
       " 66027.0,\n",
       " 56390.0,\n",
       " 40265.0,\n",
       " 78683.0,\n",
       " 67150.0,\n",
       " 96032.0,\n",
       " 48788.0,\n",
       " 73332.0,\n",
       " 66975.0,\n",
       " 99721.0,\n",
       " 25918.0,\n",
       " 79412.0,\n",
       " 61606.0,\n",
       " 41499.0,\n",
       " 67140.0,\n",
       " 94918.0,\n",
       " 34414.0,\n",
       " 27315.0,\n",
       " 61921.0,\n",
       " 26981.0,\n",
       " 51342.0,\n",
       " 23877.0,\n",
       " 32909.0,\n",
       " 85560.0,\n",
       " 26293.0,\n",
       " 16481.0,\n",
       " 24629.0,\n",
       " 23457.0,\n",
       " 99066.0,\n",
       " 73304.0,\n",
       " 66229.0,\n",
       " 58122.0,\n",
       " 65317.0,\n",
       " 89919.0,\n",
       " 31904.0,\n",
       " 66058.0,\n",
       " 40523.0,\n",
       " 58865.0,\n",
       " 22909.0,\n",
       " 13014.0,\n",
       " 32911.0,\n",
       " 78879.0,\n",
       " 36085.0,\n",
       " 61976.0,\n",
       " 30682.0,\n",
       " 68345.0,\n",
       " 85095.0,\n",
       " 20323.0,\n",
       " 24820.0,\n",
       " 25395.0,\n",
       " 94178.0,\n",
       " 55042.0,\n",
       " 23978.0,\n",
       " 89316.0,\n",
       " 71301.0,\n",
       " 38909.0,\n",
       " 67081.0,\n",
       " 55170.0,\n",
       " 42803.0,\n",
       " 97044.0,\n",
       " 32355.0,\n",
       " 29744.0,\n",
       " 80128.0,\n",
       " 15176.0,\n",
       " 94741.0,\n",
       " 58356.0,\n",
       " 20584.0,\n",
       " 55422.0,\n",
       " 96167.0,\n",
       " 41557.0,\n",
       " 72054.0,\n",
       " 99068.0,\n",
       " 75667.0,\n",
       " 60466.0,\n",
       " 70393.0,\n",
       " 43009.0,\n",
       " 67908.0,\n",
       " 43184.0,\n",
       " 45468.0,\n",
       " 24655.0,\n",
       " 41550.0,\n",
       " 59674.0,\n",
       " 58262.0,\n",
       " 85436.0,\n",
       " 99009.0,\n",
       " 26313.0,\n",
       " 78295.0,\n",
       " 58747.0,\n",
       " 63816.0,\n",
       " 34094.0,\n",
       " 72451.0,\n",
       " 18697.0,\n",
       " 33214.0,\n",
       " 62625.0,\n",
       " 43225.0,\n",
       " 74109.0,\n",
       " 75753.0,\n",
       " 61705.0,\n",
       " 11223.0,\n",
       " 62362.0,\n",
       " 93367.0,\n",
       " 94530.0,\n",
       " 71236.0,\n",
       " 57496.0,\n",
       " 24004.0,\n",
       " 63459.0,\n",
       " 57559.0,\n",
       " 58996.0,\n",
       " 34431.0,\n",
       " 33578.0,\n",
       " 70923.0,\n",
       " 62102.0,\n",
       " 43640.0,\n",
       " 87055.0,\n",
       " 79483.0,\n",
       " 52180.0,\n",
       " 73440.0,\n",
       " 52673.0,\n",
       " 46289.0,\n",
       " 31926.0,\n",
       " 14712.0,\n",
       " 67536.0,\n",
       " 67533.0,\n",
       " 74289.0,\n",
       " 17190.0,\n",
       " 30306.0,\n",
       " 98229.0,\n",
       " 48051.0,\n",
       " 60326.0,\n",
       " 60640.0,\n",
       " 98826.0,\n",
       " 31877.0,\n",
       " 39221.0,\n",
       " 87425.0,\n",
       " 57997.0,\n",
       " 59804.0,\n",
       " 48189.0,\n",
       " 38365.0,\n",
       " 28306.0,\n",
       " 76724.0,\n",
       " 81190.0,\n",
       " 90983.0,\n",
       " 34855.0,\n",
       " 28566.0,\n",
       " 34852.0,\n",
       " 52538.0,\n",
       " 68015.0,\n",
       " 50520.0,\n",
       " 11129.0,\n",
       " 53469.0,\n",
       " 12943.0,\n",
       " 27302.0,\n",
       " 76578.0,\n",
       " 49587.0,\n",
       " 63142.0,\n",
       " 51689.0,\n",
       " 27500.0,\n",
       " 14715.0,\n",
       " 18689.0,\n",
       " 40559.0,\n",
       " 49006.0,\n",
       " 34561.0,\n",
       " 80925.0,\n",
       " 91151.0,\n",
       " 21936.0,\n",
       " 40315.0,\n",
       " 75104.0,\n",
       " 85017.0,\n",
       " 59121.0,\n",
       " 68718.0,\n",
       " 73710.0,\n",
       " 86040.0,\n",
       " 79991.0,\n",
       " 33684.0,\n",
       " 57100.0,\n",
       " 78155.0,\n",
       " 25380.0,\n",
       " 63914.0,\n",
       " 76643.0,\n",
       " 12670.0,\n",
       " 11359.0,\n",
       " 13649.0,\n",
       " 30992.0,\n",
       " 89736.0,\n",
       " 42955.0,\n",
       " 93893.0,\n",
       " 32672.0,\n",
       " 57635.0,\n",
       " 32861.0,\n",
       " 99878.0,\n",
       " 64630.0,\n",
       " 52251.0,\n",
       " 84099.0,\n",
       " 54559.0,\n",
       " 28116.0,\n",
       " 24355.0,\n",
       " 26213.0,\n",
       " 67685.0,\n",
       " 70072.0,\n",
       " 63971.0,\n",
       " 87547.0,\n",
       " 40460.0,\n",
       " 33449.0,\n",
       " 56165.0,\n",
       " 73397.0,\n",
       " 65763.0,\n",
       " 86426.0,\n",
       " 63360.0,\n",
       " 34177.0,\n",
       " 13540.0,\n",
       " 19386.0,\n",
       " 86767.0,\n",
       " 67899.0,\n",
       " 51836.0,\n",
       " 63249.0,\n",
       " 13166.0,\n",
       " 53562.0,\n",
       " 10834.0,\n",
       " 69970.0,\n",
       " 76339.0,\n",
       " 30788.0,\n",
       " 99289.0,\n",
       " 40935.0,\n",
       " 52528.0,\n",
       " 19172.0,\n",
       " 47731.0,\n",
       " 62824.0,\n",
       " 91096.0,\n",
       " 57063.0,\n",
       " 52373.0,\n",
       " 10835.0,\n",
       " 94932.0,\n",
       " 51399.0,\n",
       " 50237.0,\n",
       " 36292.0,\n",
       " 95860.0,\n",
       " 39836.0,\n",
       " 31080.0,\n",
       " 17384.0,\n",
       " 35495.0,\n",
       " 26543.0,\n",
       " 18600.0,\n",
       " 44501.0,\n",
       " 13293.0,\n",
       " 44858.0,\n",
       " 74886.0,\n",
       " 58222.0,\n",
       " 13698.0,\n",
       " 22849.0,\n",
       " 76347.0,\n",
       " 54053.0,\n",
       " 67317.0,\n",
       " 67335.0,\n",
       " 97190.0,\n",
       " 90979.0,\n",
       " 37920.0,\n",
       " 46331.0,\n",
       " 99138.0,\n",
       " 68834.0,\n",
       " 99094.0,\n",
       " 82717.0,\n",
       " 64494.0,\n",
       " 17110.0,\n",
       " 75778.0,\n",
       " 46881.0,\n",
       " 32041.0,\n",
       " 60480.0,\n",
       " 73839.0,\n",
       " 79110.0,\n",
       " 57941.0,\n",
       " 65122.0,\n",
       " 72868.0,\n",
       " 64777.0,\n",
       " 60272.0,\n",
       " 65860.0,\n",
       " 11318.0,\n",
       " 94594.0,\n",
       " 98870.0,\n",
       " 32129.0,\n",
       " 45168.0,\n",
       " 11744.0,\n",
       " 78578.0,\n",
       " 99084.0,\n",
       " 95209.0,\n",
       " 62458.0,\n",
       " 75823.0,\n",
       " 47176.0,\n",
       " 79578.0,\n",
       " 26450.0,\n",
       " 21853.0,\n",
       " 37050.0,\n",
       " 81220.0,\n",
       " 94286.0,\n",
       " 73489.0,\n",
       " 25045.0,\n",
       " 64753.0,\n",
       " 34772.0,\n",
       " 26465.0,\n",
       " 67180.0,\n",
       " 93730.0,\n",
       " 94052.0,\n",
       " 16615.0,\n",
       " 72730.0,\n",
       " 92685.0,\n",
       " 18294.0,\n",
       " 79498.0,\n",
       " 75734.0,\n",
       " 69149.0,\n",
       " 15024.0,\n",
       " 47281.0,\n",
       " 84259.0,\n",
       " 96060.0,\n",
       " 73343.0,\n",
       " 12928.0,\n",
       " 67546.0,\n",
       " 13422.0,\n",
       " 54074.0,\n",
       " 20932.0,\n",
       " 71072.0,\n",
       " 21793.0,\n",
       " 23446.0,\n",
       " 87504.0,\n",
       " 82254.0,\n",
       " 43421.0,\n",
       " 28959.0,\n",
       " 14530.0,\n",
       " 67629.0,\n",
       " 52702.0,\n",
       " 67850.0,\n",
       " 90526.0,\n",
       " 29603.0,\n",
       " 67724.0,\n",
       " 97400.0,\n",
       " 35644.0,\n",
       " 53118.0,\n",
       " 99800.0,\n",
       " 56621.0,\n",
       " 43556.0,\n",
       " 87124.0,\n",
       " 37219.0,\n",
       " 66321.0,\n",
       " 86628.0,\n",
       " 10418.0,\n",
       " 48764.0,\n",
       " 81554.0,\n",
       " 76424.0,\n",
       " 89129.0,\n",
       " 31733.0,\n",
       " 90091.0,\n",
       " 82425.0,\n",
       " 95554.0,\n",
       " 10876.0,\n",
       " 63060.0,\n",
       " 11717.0,\n",
       " 65757.0,\n",
       " 51811.0,\n",
       " 95772.0,\n",
       " 12587.0,\n",
       " 11784.0,\n",
       " 26746.0,\n",
       " 39051.0,\n",
       " 27092.0,\n",
       " 65554.0,\n",
       " 91442.0,\n",
       " 57878.0,\n",
       " 51057.0,\n",
       " 23460.0,\n",
       " 18790.0,\n",
       " 68035.0,\n",
       " 26686.0,\n",
       " 14329.0,\n",
       " 25586.0,\n",
       " 86207.0,\n",
       " 88351.0,\n",
       " 33009.0,\n",
       " 19836.0,\n",
       " 99127.0,\n",
       " 31101.0,\n",
       " 22656.0,\n",
       " 20024.0,\n",
       " 73506.0,\n",
       " 14550.0,\n",
       " 96162.0,\n",
       " 90507.0,\n",
       " 65206.0,\n",
       " 13624.0,\n",
       " 24512.0,\n",
       " 42152.0,\n",
       " 77068.0,\n",
       " 75671.0,\n",
       " 56804.0,\n",
       " 39949.0,\n",
       " 72783.0,\n",
       " 40828.0,\n",
       " 52671.0,\n",
       " 55114.0,\n",
       " 32304.0,\n",
       " 18120.0,\n",
       " 50612.0,\n",
       " 20597.0,\n",
       " 43717.0,\n",
       " 60807.0,\n",
       " 94724.0,\n",
       " 93827.0,\n",
       " 74606.0,\n",
       " 65354.0,\n",
       " 87428.0,\n",
       " 65397.0,\n",
       " 23243.0,\n",
       " 26144.0,\n",
       " 95345.0,\n",
       " 29098.0,\n",
       " 76639.0,\n",
       " 97836.0,\n",
       " 91903.0,\n",
       " 14886.0,\n",
       " 60868.0,\n",
       " 68154.0,\n",
       " 69398.0,\n",
       " 52257.0,\n",
       " 30877.0,\n",
       " 61643.0,\n",
       " 49957.0,\n",
       " 11671.0,\n",
       " 98909.0,\n",
       " 55140.0,\n",
       " 12072.0,\n",
       " 88236.0,\n",
       " 89162.0,\n",
       " 84534.0,\n",
       " 62695.0,\n",
       " 67023.0,\n",
       " 62788.0,\n",
       " 10044.0,\n",
       " 28858.0,\n",
       " 88867.0,\n",
       " 43047.0,\n",
       " 96566.0,\n",
       " 90403.0,\n",
       " 45870.0,\n",
       " 68748.0,\n",
       " 82921.0,\n",
       " 33798.0,\n",
       " 80995.0,\n",
       " 30755.0,\n",
       " 12300.0,\n",
       " 95702.0,\n",
       " 32454.0,\n",
       " 53922.0,\n",
       " 43692.0,\n",
       " 77948.0,\n",
       " 93518.0,\n",
       " 50679.0,\n",
       " 76122.0,\n",
       " 81036.0,\n",
       " 11769.0,\n",
       " 65024.0,\n",
       " 55833.0,\n",
       " 35155.0,\n",
       " 85488.0,\n",
       " 27646.0,\n",
       " 60299.0,\n",
       " 68940.0,\n",
       " 25604.0,\n",
       " 58105.0,\n",
       " 67646.0,\n",
       " 92767.0,\n",
       " 67276.0,\n",
       " 82551.0,\n",
       " 67743.0,\n",
       " 44000.0,\n",
       " 65632.0,\n",
       " 58349.0,\n",
       " 47760.0,\n",
       " 73477.0,\n",
       " 74457.0,\n",
       " 35925.0,\n",
       " 38515.0,\n",
       " 74543.0,\n",
       " 53145.0,\n",
       " 84811.0,\n",
       " 99488.0,\n",
       " 93943.0,\n",
       " 81986.0,\n",
       " 73951.0,\n",
       " 36967.0,\n",
       " 25311.0,\n",
       " 64802.0,\n",
       " 83486.0,\n",
       " 52428.0,\n",
       " 96319.0,\n",
       " 59475.0,\n",
       " 10240.0,\n",
       " 23935.0,\n",
       " 25190.0,\n",
       " 34766.0,\n",
       " 43791.0,\n",
       " 86774.0,\n",
       " 20041.0,\n",
       " 65927.0,\n",
       " 25199.0,\n",
       " 47329.0,\n",
       " 80183.0,\n",
       " 81971.0,\n",
       " 64252.0,\n",
       " 48904.0,\n",
       " 17085.0,\n",
       " 54505.0,\n",
       " 42105.0,\n",
       " 77595.0,\n",
       " 17348.0,\n",
       " 64253.0,\n",
       " 28338.0,\n",
       " 58950.0,\n",
       " 83209.0,\n",
       " 87029.0,\n",
       " 62552.0,\n",
       " 30247.0,\n",
       " 20002.0,\n",
       " 88100.0,\n",
       " 26767.0,\n",
       " 68397.0,\n",
       " 36623.0,\n",
       " 81634.0,\n",
       " 90693.0,\n",
       " 18423.0,\n",
       " 50548.0,\n",
       " 20349.0,\n",
       " 67930.0,\n",
       " 61816.0,\n",
       " 79553.0,\n",
       " 17277.0,\n",
       " 59008.0,\n",
       " 24774.0,\n",
       " 94514.0,\n",
       " 85874.0,\n",
       " 47637.0,\n",
       " 53553.0,\n",
       " 87495.0,\n",
       " 75229.0,\n",
       " 42560.0,\n",
       " 17314.0,\n",
       " 54194.0,\n",
       " 75523.0,\n",
       " 16087.0,\n",
       " 88327.0,\n",
       " 95168.0,\n",
       " 98767.0,\n",
       " 79390.0,\n",
       " 49568.0,\n",
       " 10728.0,\n",
       " 24387.0,\n",
       " 65251.0,\n",
       " 80757.0,\n",
       " 42743.0,\n",
       " 15309.0,\n",
       " 37777.0,\n",
       " 64087.0,\n",
       " 98831.0,\n",
       " 65292.0,\n",
       " 97436.0,\n",
       " 82271.0,\n",
       " 51757.0,\n",
       " 70802.0,\n",
       " 39236.0,\n",
       " 20621.0,\n",
       " 43282.0,\n",
       " 36179.0,\n",
       " 13712.0,\n",
       " 14800.0,\n",
       " 64619.0,\n",
       " 14534.0,\n",
       " 40064.0,\n",
       " 58604.0,\n",
       " 64562.0,\n",
       " 57416.0,\n",
       " 45238.0,\n",
       " 53310.0,\n",
       " 13446.0,\n",
       " 95942.0,\n",
       " 53947.0,\n",
       " 49139.0,\n",
       " 88917.0,\n",
       " 18479.0,\n",
       " 26395.0,\n",
       " 12281.0,\n",
       " 28184.0,\n",
       " 18673.0,\n",
       " 85563.0,\n",
       " 90330.0,\n",
       " 35621.0,\n",
       " 19606.0,\n",
       " 28813.0,\n",
       " 86457.0,\n",
       " 11595.0,\n",
       " 24911.0,\n",
       " 84269.0,\n",
       " 87917.0,\n",
       " 32710.0,\n",
       " 58110.0,\n",
       " 61525.0,\n",
       " 37722.0,\n",
       " 25372.0,\n",
       " 67675.0,\n",
       " 11166.0,\n",
       " 81553.0,\n",
       " 29585.0,\n",
       " 93862.0,\n",
       " 29575.0,\n",
       " 97952.0,\n",
       " 67967.0,\n",
       " 30001.0,\n",
       " 92114.0,\n",
       " 19909.0,\n",
       " 70041.0,\n",
       " 74477.0,\n",
       " 51876.0,\n",
       " 92825.0,\n",
       " 68248.0,\n",
       " 28830.0,\n",
       " 20006.0,\n",
       " 10502.0,\n",
       " 39251.0,\n",
       " 86925.0,\n",
       " 85259.0,\n",
       " 32689.0,\n",
       " 89393.0,\n",
       " 83602.0,\n",
       " 24245.0,\n",
       " 61786.0,\n",
       " 98129.0,\n",
       " 90508.0,\n",
       " 32418.0,\n",
       " 71509.0,\n",
       " 97627.0,\n",
       " 74131.0,\n",
       " 98736.0,\n",
       " 68911.0,\n",
       " 44854.0,\n",
       " 14460.0,\n",
       " 70377.0,\n",
       " 20865.0,\n",
       " 50614.0,\n",
       " 71877.0,\n",
       " 11094.0,\n",
       " 71830.0,\n",
       " 83834.0,\n",
       " 50264.0,\n",
       " 61651.0,\n",
       " 41446.0,\n",
       " 25849.0,\n",
       " 75837.0,\n",
       " 39650.0,\n",
       " 16962.0,\n",
       " 44292.0,\n",
       " 89680.0,\n",
       " 56352.0,\n",
       " 91851.0,\n",
       " 69544.0,\n",
       " 60263.0,\n",
       " 70034.0,\n",
       " 35328.0,\n",
       " 10451.0,\n",
       " 93350.0,\n",
       " 14953.0,\n",
       " 15122.0,\n",
       " 87263.0,\n",
       " 78676.0,\n",
       " 90662.0,\n",
       " 42094.0,\n",
       " 94902.0,\n",
       " 30196.0,\n",
       " 34398.0,\n",
       " 12394.0,\n",
       " 67496.0,\n",
       " 19213.0,\n",
       " 25731.0,\n",
       " 67410.0,\n",
       " 88655.0,\n",
       " 75910.0,\n",
       " 69025.0,\n",
       " 17269.0,\n",
       " 77591.0,\n",
       " 81864.0,\n",
       " 71093.0,\n",
       " 72414.0,\n",
       " 17467.0,\n",
       " 16482.0,\n",
       " 70643.0,\n",
       " 43134.0,\n",
       " 22619.0,\n",
       " 53166.0,\n",
       " 27733.0,\n",
       " 78150.0,\n",
       " 95708.0,\n",
       " 60458.0,\n",
       " 88895.0,\n",
       " 28468.0,\n",
       " 47168.0,\n",
       " 34628.0,\n",
       " 61815.0,\n",
       " 75784.0,\n",
       " 33609.0,\n",
       " 54335.0,\n",
       " 92835.0,\n",
       " 83997.0,\n",
       " 21122.0,\n",
       " 93907.0,\n",
       " 59933.0,\n",
       " 97399.0,\n",
       " 32222.0,\n",
       " 38596.0,\n",
       " 68456.0,\n",
       " 75955.0,\n",
       " 54656.0,\n",
       " 44711.0,\n",
       " 90121.0,\n",
       " 32282.0,\n",
       " 77877.0,\n",
       " 26765.0,\n",
       " 90116.0,\n",
       " 66102.0,\n",
       " 47713.0,\n",
       " 82728.0,\n",
       " 39140.0,\n",
       " 66022.0,\n",
       " 53042.0,\n",
       " 30833.0,\n",
       " 24268.0,\n",
       " 38493.0,\n",
       " 66483.0,\n",
       " 76999.0,\n",
       " 76137.0,\n",
       " 30396.0,\n",
       " 71001.0,\n",
       " 96457.0,\n",
       " 25627.0,\n",
       " 54884.0,\n",
       " 42036.0,\n",
       " 54115.0,\n",
       " 48180.0,\n",
       " 46842.0,\n",
       " 39615.0,\n",
       " 13591.0,\n",
       " 56160.0,\n",
       " 61162.0,\n",
       " 10654.0,\n",
       " 98004.0,\n",
       " 95755.0,\n",
       " 76006.0,\n",
       " 35103.0,\n",
       " 48402.0,\n",
       " 51950.0,\n",
       " 86350.0,\n",
       " 66742.0,\n",
       " 95220.0,\n",
       " 19225.0,\n",
       " 46228.0,\n",
       " 35592.0,\n",
       " 88083.0,\n",
       " 10878.0,\n",
       " 30237.0,\n",
       " 62411.0,\n",
       " 55410.0,\n",
       " 42395.0,\n",
       " 64100.0,\n",
       " 92025.0,\n",
       " 72815.0,\n",
       " 94128.0,\n",
       " 40146.0,\n",
       " 36101.0,\n",
       " 97336.0,\n",
       " 48306.0,\n",
       " 92369.0,\n",
       " 97227.0,\n",
       " 48921.0,\n",
       " 12748.0,\n",
       " 73487.0,\n",
       " 84767.0,\n",
       " 90800.0,\n",
       " 15882.0,\n",
       " 36250.0,\n",
       " 13468.0,\n",
       " 13634.0,\n",
       " 16384.0,\n",
       " 33402.0,\n",
       " 56032.0,\n",
       " 66627.0,\n",
       " 12367.0,\n",
       " 37477.0,\n",
       " 70170.0,\n",
       " 46839.0,\n",
       " 19265.0,\n",
       " 97285.0,\n",
       " 49035.0,\n",
       " 72676.0,\n",
       " 95723.0,\n",
       " 12526.0,\n",
       " 28724.0,\n",
       " 97908.0,\n",
       " 43957.0,\n",
       " 11778.0,\n",
       " 37712.0,\n",
       " 44360.0,\n",
       " 86315.0,\n",
       " 60545.0,\n",
       " 50156.0,\n",
       " 72333.0,\n",
       " 88399.0,\n",
       " 59867.0,\n",
       " 68894.0,\n",
       " 99824.0,\n",
       " 65123.0,\n",
       " 50385.0,\n",
       " 19439.0,\n",
       " 94046.0,\n",
       " 22124.0,\n",
       " 99812.0,\n",
       " 17065.0,\n",
       " 13081.0,\n",
       " 94332.0,\n",
       " 85063.0,\n",
       " 97290.0,\n",
       " 20329.0,\n",
       " 15390.0,\n",
       " 41109.0,\n",
       " 10715.0,\n",
       " 80926.0,\n",
       " 87588.0,\n",
       " ...]"
      ]
     },
     "execution_count": 75,
     "metadata": {},
     "output_type": "execute_result"
    }
   ],
   "source": [
    "def low_rating_flag(df):\n",
    "    low_raters = df[df['Ratings'] < 2]['Customer_ID'].value_counts()\n",
    "    return low_raters[low_raters > 1].index.tolist()\n",
    "low_rating_flag(df)"
   ]
  },
  {
   "cell_type": "markdown",
   "id": "db821523-a874-400b-92b9-d0b0e4ed43db",
   "metadata": {},
   "source": [
    "### 28. Monthly Revenue Trend (Time Series Plot)."
   ]
  },
  {
   "cell_type": "code",
   "execution_count": 90,
   "id": "f817a66b-ec01-4821-bbf7-ad9cd8f5ae07",
   "metadata": {},
   "outputs": [
    {
     "data": {
      "image/png": "[encoded data removed]",
      "text/plain": [
       "<Figure size 1000x400 with 1 Axes>"
      ]
     },
     "metadata": {},
     "output_type": "display_data"
    }
   ],
   "source": [
    "def plot_monthly_revenue(df):\n",
    "    df['Date'] = pd.to_datetime(df['Date'], errors='coerce')\n",
    "    monthly = df.groupby(df['Date'].dt.to_period('M'))['Total_Amount'].sum().reset_index()\n",
    "    monthly['Date'] = monthly['Date'].dt.to_timestamp()\n",
    "    \n",
    "    plt.figure(figsize=(10, 4))\n",
    "    sns.lineplot(data=monthly, x='Date', y='Total_Amount', marker='o')\n",
    "    plt.title('Monthly Revenue Trend')\n",
    "    plt.ylabel('Total Revenue')\n",
    "    plt.xlabel('Month')\n",
    "    plt.grid(True)\n",
    "    plt.tight_layout()\n",
    "    plt.show()\n",
    "plot_monthly_revenue(df)"
   ]
  },
  {
   "cell_type": "markdown",
   "id": "8709ba5c-8d1b-4648-91a2-c0a0a0e6702d",
   "metadata": {},
   "source": [
    "### 29. Average Spend Over Time (Line Plot)."
   ]
  },
  {
   "cell_type": "code",
   "execution_count": 77,
   "id": "49d0b8a0-f4c9-4637-bb1c-967329742566",
   "metadata": {},
   "outputs": [
    {
     "data": {
      "image/png": "[encoded data removed]",
      "text/plain": [
       "<Figure size 1000x400 with 1 Axes>"
      ]
     },
     "metadata": {},
     "output_type": "display_data"
    }
   ],
   "source": [
    "def plot_avg_spend_over_time(df):\n",
    "    df['Date'] = pd.to_datetime(df['Date'], errors='coerce')\n",
    "    avg_spend = df.groupby(df['Date'].dt.to_period('M'))['Total_Amount'].mean().reset_index()\n",
    "    avg_spend['Date'] = avg_spend['Date'].dt.to_timestamp()\n",
    "    \n",
    "    plt.figure(figsize=(10, 4))\n",
    "    plt.plot(avg_spend['Date'], avg_spend['Total_Amount'], color='green', linestyle='--', marker='x')\n",
    "    plt.title('Average Spend Per Order Over Time')\n",
    "    plt.xlabel('Month')\n",
    "    plt.ylabel('Average Spend')\n",
    "    plt.tight_layout()\n",
    "    plt.show()\n",
    "plot_avg_spend_over_time(df)"
   ]
  },
  {
   "cell_type": "markdown",
   "id": "d2a0503b-8826-47b9-bb65-40d034e5653d",
   "metadata": {},
   "source": [
    "### 30. Scatter Plot : Number of Orders vs. Total Spend (Per Customer)."
   ]
  },
  {
   "cell_type": "code",
   "execution_count": 79,
   "id": "6748827c-b41b-49b9-ac5b-9e8ba9ae45d4",
   "metadata": {},
   "outputs": [
    {
     "data": {
      "image/png": "[encoded data removed]",
      "text/plain": [
       "<Figure size 800x500 with 1 Axes>"
      ]
     },
     "metadata": {},
     "output_type": "display_data"
    }
   ],
   "source": [
    "def scatter_orders_vs_spend(df):\n",
    "    summary = df.groupby('Customer_ID').agg({'Transaction_ID': 'nunique', 'Total_Amount': 'sum'}).reset_index()\n",
    "    summary.columns = ['Customer_ID', 'Order_Count', 'Total_Spend']\n",
    "    \n",
    "    plt.figure(figsize=(8, 5))\n",
    "    sns.scatterplot(data=summary, x='Order_Count', y='Total_Spend', alpha=0.7)\n",
    "    plt.title('Order Count vs. Total Spend per Customer')\n",
    "    plt.xlabel('Number of Orders')\n",
    "    plt.ylabel('Total Spend')\n",
    "    plt.tight_layout()\n",
    "    plt.show()\n",
    "scatter_orders_vs_spend(df)"
   ]
  },
  {
   "cell_type": "markdown",
   "id": "84d6399f-0735-4ea6-9058-75c9e645933f",
   "metadata": {},
   "source": [
    "### 31. Box Plot: Spend Distribution by Gender (or Category)."
   ]
  },
  {
   "cell_type": "code",
   "execution_count": 81,
   "id": "aeb09027-bedf-42d5-bf0c-90ad2197bb82",
   "metadata": {},
   "outputs": [
    {
     "data": {
      "image/png": "[encoded data removed]",
      "text/plain": [
       "<Figure size 800x500 with 1 Axes>"
      ]
     },
     "metadata": {},
     "output_type": "display_data"
    }
   ],
   "source": [
    "def boxplot_spend_by_gender(df):\n",
    "    plt.figure(figsize=(8, 5))\n",
    "    sns.boxplot(data=df, x='Gender', y='Total_Amount')\n",
    "    plt.title('Spend Distribution by Gender')\n",
    "    plt.ylabel('Total Spend')\n",
    "    plt.tight_layout()\n",
    "    plt.show()\n",
    "boxplot_spend_by_gender(df)"
   ]
  },
  {
   "cell_type": "markdown",
   "id": "2e6b205a-5a2d-4e9c-b480-a336128a8767",
   "metadata": {},
   "source": [
    "### 32. Customer Frequency Histogram."
   ]
  },
  {
   "cell_type": "code",
   "execution_count": 85,
   "id": "8fdfed53-e55a-4752-b4a1-874ec3303add",
   "metadata": {},
   "outputs": [
    {
     "data": {
      "image/png": "[encoded data removed]",
      "text/plain": [
       "<Figure size 800x400 with 1 Axes>"
      ]
     },
     "metadata": {},
     "output_type": "display_data"
    }
   ],
   "source": [
    "def plot_frequency_hist(df):\n",
    "    freq = df.groupby('Customer_ID')['Transaction_ID'].nunique()\n",
    "    plt.figure(figsize=(8, 4))\n",
    "    sns.histplot(freq, bins=20, kde=True)\n",
    "    plt.title('Customer Purchase Frequency Distribution')\n",
    "    plt.xlabel('Number of Purchases')\n",
    "    plt.ylabel('Customer Count')\n",
    "    plt.tight_layout()\n",
    "    plt.show()\n",
    "plot_frequency_hist(df)"
   ]
  },
  {
   "cell_type": "markdown",
   "id": "e95b3e71-8851-4f9e-93e7-1f82fa2f47d3",
   "metadata": {},
   "source": [
    "### 33. Churn Rate by Month (Bar Plot)."
   ]
  },
  {
   "cell_type": "code",
   "execution_count": 83,
   "id": "f55f1f77-469b-48b3-9da0-96cbd3c20cdd",
   "metadata": {},
   "outputs": [
    {
     "data": {
      "image/png": "[encoded data removed]",
      "text/plain": [
       "<Figure size 1000x500 with 1 Axes>"
      ]
     },
     "metadata": {},
     "output_type": "display_data"
    }
   ],
   "source": [
    "def churn_rate_bar(df):\n",
    "    df['Date'] = pd.to_datetime(df['Date'])\n",
    "    df['Month'] = df['Date'].dt.to_period('M').dt.to_timestamp()\n",
    "    \n",
    "    last_active = df.groupby('Customer_ID')['Month'].max()\n",
    "    monthly_counts = last_active.value_counts().sort_index()\n",
    "    \n",
    "    plt.figure(figsize=(10, 5))\n",
    "    sns.barplot(x=monthly_counts.index, y=monthly_counts.values)\n",
    "    plt.xticks(rotation=45)\n",
    "    plt.title(\"Customer Churn Count by Last Active Month\")\n",
    "    plt.xlabel('Last Active Month')\n",
    "    plt.ylabel('Number of Churned Customers')\n",
    "    plt.tight_layout()\n",
    "    plt.show()\n",
    "churn_rate_bar(df)"
   ]
  }
 ],
 "metadata": {
  "kernelspec": {
   "display_name": "Python 3 (ipykernel)",
   "language": "python",
   "name": "python3"
  },
  "language_info": {
   "codemirror_mode": {
    "name": "ipython",
    "version": 3
   },
   "file_extension": ".py",
   "mimetype": "text/x-python",
   "name": "python",
   "nbconvert_exporter": "python",
   "pygments_lexer": "ipython3",
   "version": "3.12.7"
  }
 },
 "nbformat": 4,
 "nbformat_minor": 5
}
